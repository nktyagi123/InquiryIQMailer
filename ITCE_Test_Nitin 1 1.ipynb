{
 "cells": [
  {
   "cell_type": "markdown",
   "id": "ffcf0529",
   "metadata": {},
   "source": [
    "Need to update spacy pretrained model to large"
   ]
  },
  {
   "cell_type": "code",
   "execution_count": 4,
   "id": "29769c1d-fa6c-4fba-a32d-74932676ad8e",
   "metadata": {},
   "outputs": [],
   "source": [
    "import pandas as pd\n",
    "import numpy as np\n",
    "import spacy"
   ]
  },
  {
   "cell_type": "code",
   "execution_count": 4,
   "id": "f0b6a937-d602-44ad-a83b-c9595f80d388",
   "metadata": {},
   "outputs": [],
   "source": [
    "import tensorflow as tf\n",
    "from tensorflow.keras.layers import LSTM, Dense, Embedding, SpatialDropout1D\n",
    "from tensorflow.keras.models import Sequential\n",
    "from tensorflow.keras.preprocessing.text import Tokenizer\n",
    "from tensorflow.keras.preprocessing.sequence import pad_sequences"
   ]
  },
  {
   "cell_type": "code",
   "execution_count": null,
   "id": "35e61d56",
   "metadata": {},
   "outputs": [],
   "source": []
  },
  {
   "cell_type": "code",
   "execution_count": 1,
   "id": "0ac3ea24-205f-41ea-b6ee-165773fcbd75",
   "metadata": {},
   "outputs": [
    {
     "ename": "ImportError",
     "evalue": "cannot import name 'triu' from 'scipy.linalg' (/Users/nitinkumar/Desktop/GenAI/InquiryIQMailer/venv/lib/python3.10/site-packages/scipy/linalg/__init__.py)",
     "output_type": "error",
     "traceback": [
      "\u001b[0;31m---------------------------------------------------------------------------\u001b[0m",
      "\u001b[0;31mImportError\u001b[0m                               Traceback (most recent call last)",
      "Cell \u001b[0;32mIn[1], line 1\u001b[0m\n\u001b[0;32m----> 1\u001b[0m \u001b[38;5;28;01mimport\u001b[39;00m \u001b[38;5;21;01mgensim\u001b[39;00m\u001b[38;5;21;01m.\u001b[39;00m\u001b[38;5;21;01mdownloader\u001b[39;00m \u001b[38;5;28;01mas\u001b[39;00m \u001b[38;5;21;01mapi\u001b[39;00m\n\u001b[1;32m      2\u001b[0m wv \u001b[38;5;241m=\u001b[39m api\u001b[38;5;241m.\u001b[39mload(\u001b[38;5;124m'\u001b[39m\u001b[38;5;124mword2vec-google-news-300\u001b[39m\u001b[38;5;124m'\u001b[39m)\n",
      "File \u001b[0;32m~/Desktop/GenAI/InquiryIQMailer/venv/lib/python3.10/site-packages/gensim/__init__.py:11\u001b[0m\n\u001b[1;32m      7\u001b[0m __version__ \u001b[38;5;241m=\u001b[39m \u001b[38;5;124m'\u001b[39m\u001b[38;5;124m4.3.0\u001b[39m\u001b[38;5;124m'\u001b[39m\n\u001b[1;32m      9\u001b[0m \u001b[38;5;28;01mimport\u001b[39;00m \u001b[38;5;21;01mlogging\u001b[39;00m\n\u001b[0;32m---> 11\u001b[0m \u001b[38;5;28;01mfrom\u001b[39;00m \u001b[38;5;21;01mgensim\u001b[39;00m \u001b[38;5;28;01mimport\u001b[39;00m parsing, corpora, matutils, interfaces, models, similarities, utils  \u001b[38;5;66;03m# noqa:F401\u001b[39;00m\n\u001b[1;32m     14\u001b[0m logger \u001b[38;5;241m=\u001b[39m logging\u001b[38;5;241m.\u001b[39mgetLogger(\u001b[38;5;124m'\u001b[39m\u001b[38;5;124mgensim\u001b[39m\u001b[38;5;124m'\u001b[39m)\n\u001b[1;32m     15\u001b[0m \u001b[38;5;28;01mif\u001b[39;00m \u001b[38;5;129;01mnot\u001b[39;00m logger\u001b[38;5;241m.\u001b[39mhandlers:  \u001b[38;5;66;03m# To ensure reload() doesn't add another one\u001b[39;00m\n",
      "File \u001b[0;32m~/Desktop/GenAI/InquiryIQMailer/venv/lib/python3.10/site-packages/gensim/corpora/__init__.py:6\u001b[0m\n\u001b[1;32m      1\u001b[0m \u001b[38;5;124;03m\"\"\"\u001b[39;00m\n\u001b[1;32m      2\u001b[0m \u001b[38;5;124;03mThis package contains implementations of various streaming corpus I/O format.\u001b[39;00m\n\u001b[1;32m      3\u001b[0m \u001b[38;5;124;03m\"\"\"\u001b[39;00m\n\u001b[1;32m      5\u001b[0m \u001b[38;5;66;03m# bring corpus classes directly into package namespace, to save some typing\u001b[39;00m\n\u001b[0;32m----> 6\u001b[0m \u001b[38;5;28;01mfrom\u001b[39;00m \u001b[38;5;21;01m.\u001b[39;00m\u001b[38;5;21;01mindexedcorpus\u001b[39;00m \u001b[38;5;28;01mimport\u001b[39;00m IndexedCorpus  \u001b[38;5;66;03m# noqa:F401 must appear before the other classes\u001b[39;00m\n\u001b[1;32m      8\u001b[0m \u001b[38;5;28;01mfrom\u001b[39;00m \u001b[38;5;21;01m.\u001b[39;00m\u001b[38;5;21;01mmmcorpus\u001b[39;00m \u001b[38;5;28;01mimport\u001b[39;00m MmCorpus  \u001b[38;5;66;03m# noqa:F401\u001b[39;00m\n\u001b[1;32m      9\u001b[0m \u001b[38;5;28;01mfrom\u001b[39;00m \u001b[38;5;21;01m.\u001b[39;00m\u001b[38;5;21;01mbleicorpus\u001b[39;00m \u001b[38;5;28;01mimport\u001b[39;00m BleiCorpus  \u001b[38;5;66;03m# noqa:F401\u001b[39;00m\n",
      "File \u001b[0;32m~/Desktop/GenAI/InquiryIQMailer/venv/lib/python3.10/site-packages/gensim/corpora/indexedcorpus.py:14\u001b[0m\n\u001b[1;32m     10\u001b[0m \u001b[38;5;28;01mimport\u001b[39;00m \u001b[38;5;21;01mlogging\u001b[39;00m\n\u001b[1;32m     12\u001b[0m \u001b[38;5;28;01mimport\u001b[39;00m \u001b[38;5;21;01mnumpy\u001b[39;00m\n\u001b[0;32m---> 14\u001b[0m \u001b[38;5;28;01mfrom\u001b[39;00m \u001b[38;5;21;01mgensim\u001b[39;00m \u001b[38;5;28;01mimport\u001b[39;00m interfaces, utils\n\u001b[1;32m     16\u001b[0m logger \u001b[38;5;241m=\u001b[39m logging\u001b[38;5;241m.\u001b[39mgetLogger(\u001b[38;5;18m__name__\u001b[39m)\n\u001b[1;32m     19\u001b[0m \u001b[38;5;28;01mclass\u001b[39;00m \u001b[38;5;21;01mIndexedCorpus\u001b[39;00m(interfaces\u001b[38;5;241m.\u001b[39mCorpusABC):\n",
      "File \u001b[0;32m~/Desktop/GenAI/InquiryIQMailer/venv/lib/python3.10/site-packages/gensim/interfaces.py:19\u001b[0m\n\u001b[1;32m      7\u001b[0m \u001b[38;5;124;03m\"\"\"Basic interfaces used across the whole Gensim package.\u001b[39;00m\n\u001b[1;32m      8\u001b[0m \n\u001b[1;32m      9\u001b[0m \u001b[38;5;124;03mThese interfaces are used for building corpora, model transformation and similarity queries.\u001b[39;00m\n\u001b[0;32m   (...)\u001b[0m\n\u001b[1;32m     14\u001b[0m \n\u001b[1;32m     15\u001b[0m \u001b[38;5;124;03m\"\"\"\u001b[39;00m\n\u001b[1;32m     17\u001b[0m \u001b[38;5;28;01mimport\u001b[39;00m \u001b[38;5;21;01mlogging\u001b[39;00m\n\u001b[0;32m---> 19\u001b[0m \u001b[38;5;28;01mfrom\u001b[39;00m \u001b[38;5;21;01mgensim\u001b[39;00m \u001b[38;5;28;01mimport\u001b[39;00m utils, matutils\n\u001b[1;32m     22\u001b[0m logger \u001b[38;5;241m=\u001b[39m logging\u001b[38;5;241m.\u001b[39mgetLogger(\u001b[38;5;18m__name__\u001b[39m)\n\u001b[1;32m     25\u001b[0m \u001b[38;5;28;01mclass\u001b[39;00m \u001b[38;5;21;01mCorpusABC\u001b[39;00m(utils\u001b[38;5;241m.\u001b[39mSaveLoad):\n",
      "File \u001b[0;32m~/Desktop/GenAI/InquiryIQMailer/venv/lib/python3.10/site-packages/gensim/matutils.py:20\u001b[0m\n\u001b[1;32m     18\u001b[0m \u001b[38;5;28;01mimport\u001b[39;00m \u001b[38;5;21;01mscipy\u001b[39;00m\u001b[38;5;21;01m.\u001b[39;00m\u001b[38;5;21;01msparse\u001b[39;00m\n\u001b[1;32m     19\u001b[0m \u001b[38;5;28;01mfrom\u001b[39;00m \u001b[38;5;21;01mscipy\u001b[39;00m\u001b[38;5;21;01m.\u001b[39;00m\u001b[38;5;21;01mstats\u001b[39;00m \u001b[38;5;28;01mimport\u001b[39;00m entropy\n\u001b[0;32m---> 20\u001b[0m \u001b[38;5;28;01mfrom\u001b[39;00m \u001b[38;5;21;01mscipy\u001b[39;00m\u001b[38;5;21;01m.\u001b[39;00m\u001b[38;5;21;01mlinalg\u001b[39;00m \u001b[38;5;28;01mimport\u001b[39;00m get_blas_funcs, triu\n\u001b[1;32m     21\u001b[0m \u001b[38;5;28;01mfrom\u001b[39;00m \u001b[38;5;21;01mscipy\u001b[39;00m\u001b[38;5;21;01m.\u001b[39;00m\u001b[38;5;21;01mlinalg\u001b[39;00m\u001b[38;5;21;01m.\u001b[39;00m\u001b[38;5;21;01mlapack\u001b[39;00m \u001b[38;5;28;01mimport\u001b[39;00m get_lapack_funcs\n\u001b[1;32m     22\u001b[0m \u001b[38;5;28;01mfrom\u001b[39;00m \u001b[38;5;21;01mscipy\u001b[39;00m\u001b[38;5;21;01m.\u001b[39;00m\u001b[38;5;21;01mspecial\u001b[39;00m \u001b[38;5;28;01mimport\u001b[39;00m psi  \u001b[38;5;66;03m# gamma function utils\u001b[39;00m\n",
      "\u001b[0;31mImportError\u001b[0m: cannot import name 'triu' from 'scipy.linalg' (/Users/nitinkumar/Desktop/GenAI/InquiryIQMailer/venv/lib/python3.10/site-packages/scipy/linalg/__init__.py)"
     ]
    }
   ],
   "source": [
    "import gensim.downloader as api\n",
    "wv = api.load('word2vec-google-news-300')"
   ]
  },
  {
   "cell_type": "code",
   "execution_count": 49,
   "id": "4f65ac47-fd21-4dcf-9e99-05b4ad8d3a75",
   "metadata": {},
   "outputs": [],
   "source": [
    "df = pd.read_excel(\"tickets.xlsx\")"
   ]
  },
  {
   "cell_type": "code",
   "execution_count": 50,
   "id": "52a32f97-d3fe-4c1e-aa8e-904dd172d1bf",
   "metadata": {},
   "outputs": [
    {
     "data": {
      "text/plain": [
       "(47499, 15)"
      ]
     },
     "execution_count": 50,
     "metadata": {},
     "output_type": "execute_result"
    }
   ],
   "source": [
    "df.shape"
   ]
  },
  {
   "cell_type": "code",
   "execution_count": 7,
   "id": "9aa3ef85",
   "metadata": {},
   "outputs": [],
   "source": [
    "df.rename(columns = {'Ticket Category':'label'}, inplace = True)"
   ]
  },
  {
   "cell_type": "code",
   "execution_count": 9,
   "id": "c28b0071",
   "metadata": {},
   "outputs": [],
   "source": [
    "categories_to_remove = [\"Web Services\", \"na\"]\n",
    "\n",
    "# Use boolean indexing to remove rows with specific contact type\n",
    "filtered_df = df[~df[\"ContactType\"].isin(categories_to_remove)]"
   ]
  },
  {
   "cell_type": "code",
   "execution_count": 10,
   "id": "a3bd6513",
   "metadata": {
    "scrolled": true
   },
   "outputs": [
    {
     "data": {
      "text/html": [
       "<div>\n",
       "<style scoped>\n",
       "    .dataframe tbody tr th:only-of-type {\n",
       "        vertical-align: middle;\n",
       "    }\n",
       "\n",
       "    .dataframe tbody tr th {\n",
       "        vertical-align: top;\n",
       "    }\n",
       "\n",
       "    .dataframe thead th {\n",
       "        text-align: right;\n",
       "    }\n",
       "</style>\n",
       "<table border=\"1\" class=\"dataframe\">\n",
       "  <thead>\n",
       "    <tr style=\"text-align: right;\">\n",
       "      <th></th>\n",
       "      <th>Student message</th>\n",
       "      <th>label</th>\n",
       "    </tr>\n",
       "  </thead>\n",
       "  <tbody>\n",
       "    <tr>\n",
       "      <th>0</th>\n",
       "      <td>Dear Team,_x000D_\\n_x000D_\\nMay I ask you to p...</td>\n",
       "      <td>General</td>\n",
       "    </tr>\n",
       "    <tr>\n",
       "      <th>1</th>\n",
       "      <td>I would like to requests to change the electiv...</td>\n",
       "      <td>Delivery</td>\n",
       "    </tr>\n",
       "    <tr>\n",
       "      <th>2</th>\n",
       "      <td>Dear Team,_x000D_\\n_x000D_\\nMay I ask you to p...</td>\n",
       "      <td>General</td>\n",
       "    </tr>\n",
       "    <tr>\n",
       "      <th>3</th>\n",
       "      <td>Is the communication in the below attached fil...</td>\n",
       "      <td>Exams</td>\n",
       "    </tr>\n",
       "    <tr>\n",
       "      <th>4</th>\n",
       "      <td>I am unable to login error occurred when login...</td>\n",
       "      <td>LMS</td>\n",
       "    </tr>\n",
       "    <tr>\n",
       "      <th>...</th>\n",
       "      <td>...</td>\n",
       "      <td>...</td>\n",
       "    </tr>\n",
       "    <tr>\n",
       "      <th>47494</th>\n",
       "      <td>Due to change in my elective from systems and ...</td>\n",
       "      <td>Fee Related</td>\n",
       "    </tr>\n",
       "    <tr>\n",
       "      <th>47495</th>\n",
       "      <td>Fee paid and details is attached. Kindly pleas...</td>\n",
       "      <td>Fee Related</td>\n",
       "    </tr>\n",
       "    <tr>\n",
       "      <th>47496</th>\n",
       "      <td>WHEN WILL THE SEMESTER 1 RE EXAMINATIONS BE CO...</td>\n",
       "      <td>Exams</td>\n",
       "    </tr>\n",
       "    <tr>\n",
       "      <th>47497</th>\n",
       "      <td>My account is archived pls un block I already ...</td>\n",
       "      <td>LMS</td>\n",
       "    </tr>\n",
       "    <tr>\n",
       "      <th>47498</th>\n",
       "      <td>Respected sir/mam,_x000D_\\n_x000D_\\ni would li...</td>\n",
       "      <td>Exams</td>\n",
       "    </tr>\n",
       "  </tbody>\n",
       "</table>\n",
       "<p>47499 rows × 2 columns</p>\n",
       "</div>"
      ],
      "text/plain": [
       "                                         Student message        label\n",
       "0      Dear Team,_x000D_\\n_x000D_\\nMay I ask you to p...      General\n",
       "1      I would like to requests to change the electiv...     Delivery\n",
       "2      Dear Team,_x000D_\\n_x000D_\\nMay I ask you to p...      General\n",
       "3      Is the communication in the below attached fil...        Exams\n",
       "4      I am unable to login error occurred when login...          LMS\n",
       "...                                                  ...          ...\n",
       "47494  Due to change in my elective from systems and ...  Fee Related\n",
       "47495  Fee paid and details is attached. Kindly pleas...  Fee Related\n",
       "47496  WHEN WILL THE SEMESTER 1 RE EXAMINATIONS BE CO...        Exams\n",
       "47497  My account is archived pls un block I already ...          LMS\n",
       "47498  Respected sir/mam,_x000D_\\n_x000D_\\ni would li...        Exams\n",
       "\n",
       "[47499 rows x 2 columns]"
      ]
     },
     "execution_count": 10,
     "metadata": {},
     "output_type": "execute_result"
    }
   ],
   "source": [
    "# selected_categories = [\"Healthcare Application Issues\", \"Printer Issues\", \"Outpatient Issues\", \"Order Issues\", \"Access Issues\", \"Chart Issues\", \"Information Issues\", \"Login Issues\", \"Coverage Issues\", \"Access Request\"]\n",
    "# filtered_df = filtered_df[filtered_df[\"label\"].isin(selected_categories)]\n",
    "filtered_df = df[['Student message','label']]\n",
    "filtered_df"
   ]
  },
  {
   "cell_type": "code",
   "execution_count": 11,
   "id": "13be925d",
   "metadata": {},
   "outputs": [
    {
     "data": {
      "text/plain": [
       "label\n",
       "Exams                 12163\n",
       "LMS                    8118\n",
       "General                7873\n",
       "Delivery               7333\n",
       "Fee Related            4051\n",
       "Data and Documents     2561\n",
       "Refund                 2155\n",
       "Certificates            987\n",
       "Convocation             641\n",
       "Career Guidance         606\n",
       "Referral                422\n",
       "Enrollment              373\n",
       "Content                 214\n",
       "Microcredentials          1\n",
       "PG Certificate            1\n",
       "Name: count, dtype: int64"
      ]
     },
     "execution_count": 11,
     "metadata": {},
     "output_type": "execute_result"
    }
   ],
   "source": [
    "filtered_df['label'].value_counts()"
   ]
  },
  {
   "cell_type": "code",
   "execution_count": 16,
   "id": "da5a11e3-f995-4326-bfbd-62b3c143ad2c",
   "metadata": {},
   "outputs": [],
   "source": [
    "# min_samples = 350\n",
    "# df1 = filtered_df[filtered_df.label == \"Exams\"].sample(min_samples,random_state=2022)\n",
    "# df5 = filtered_df[filtered_df.label == \"LMS\"].sample(min_samples,random_state=2022)\n",
    "# df7 = filtered_df[filtered_df.label == \"General\"].sample(min_samples,random_state=2022)\n",
    "# df10 = filtered_df[filtered_df.label == \"Fee Related\"].sample(min_samples,random_state=2022)\n",
    "# df2 = filtered_df[filtered_df.label == \"Data and Documents\"].sample(min_samples,random_state=2022)\n",
    "# df3 = filtered_df[filtered_df.label == \"Refund\"].sample(min_samples,random_state=2022)\n",
    "# df4 = filtered_df[filtered_df.label == \"Certificates\"].sample(min_samples,random_state=2022)\n",
    "# df6 = filtered_df[filtered_df.label == \"Convocation\"].sample(min_samples,random_state=2022)\n",
    "# df8 = filtered_df[filtered_df.label == \"Career Guidance\"].sample(min_samples,random_state=2022)\n",
    "# df9 = filtered_df[filtered_df.label == \"Enrollment\"].sample(min_samples,random_state=2022)\n",
    "\n",
    "df_balanced = pd.concat([df1, df2, df3, df4, df5, df6, df7, df8, df9, df10], axis = 0)"
   ]
  },
  {
   "cell_type": "markdown",
   "id": "64b493f4",
   "metadata": {},
   "source": [
    "\"Healthcare Application Issues\", \"Printer Issues\", \"Outpatient Issues\", \"Order Issues\", \"Access Issues\", \"Chart Issues\", \"Information Issues\", \"Login Issues\", \"Coverage Issues\", \"Access Request\""
   ]
  },
  {
   "cell_type": "code",
   "execution_count": 17,
   "id": "7ee723ab",
   "metadata": {},
   "outputs": [
    {
     "data": {
      "text/plain": [
       "label\n",
       "Exams                 1000\n",
       "Data and Documents    1000\n",
       "Refund                1000\n",
       "LMS                   1000\n",
       "General               1000\n",
       "Fee Related           1000\n",
       "Certificates           600\n",
       "Convocation            600\n",
       "Career Guidance        600\n",
       "Enrollment             350\n",
       "Name: count, dtype: int64"
      ]
     },
     "execution_count": 17,
     "metadata": {},
     "output_type": "execute_result"
    }
   ],
   "source": [
    "df_balanced['label'].value_counts()"
   ]
  },
  {
   "cell_type": "code",
   "execution_count": 26,
   "id": "34882323",
   "metadata": {},
   "outputs": [
    {
     "data": {
      "text/html": [
       "<div>\n",
       "<style scoped>\n",
       "    .dataframe tbody tr th:only-of-type {\n",
       "        vertical-align: middle;\n",
       "    }\n",
       "\n",
       "    .dataframe tbody tr th {\n",
       "        vertical-align: top;\n",
       "    }\n",
       "\n",
       "    .dataframe thead th {\n",
       "        text-align: right;\n",
       "    }\n",
       "</style>\n",
       "<table border=\"1\" class=\"dataframe\">\n",
       "  <thead>\n",
       "    <tr style=\"text-align: right;\">\n",
       "      <th></th>\n",
       "      <th>Student message</th>\n",
       "      <th>label</th>\n",
       "      <th>cleaned_txt</th>\n",
       "    </tr>\n",
       "  </thead>\n",
       "  <tbody>\n",
       "    <tr>\n",
       "      <th>5711</th>\n",
       "      <td>When ever I open exam portal it shows I don't ...</td>\n",
       "      <td>Exams</td>\n",
       "      <td>hen ever open exam portal it shows don t have ...</td>\n",
       "    </tr>\n",
       "    <tr>\n",
       "      <th>38462</th>\n",
       "      <td>I am not getting an option to register myself ...</td>\n",
       "      <td>Exams</td>\n",
       "      <td>am not getting an option to register myself fo...</td>\n",
       "    </tr>\n",
       "    <tr>\n",
       "      <th>11382</th>\n",
       "      <td>I am unable to login to https://student.jgianv...</td>\n",
       "      <td>Exams</td>\n",
       "      <td>am unable to login to https student jgianvesha...</td>\n",
       "    </tr>\n",
       "    <tr>\n",
       "      <th>9379</th>\n",
       "      <td>The Zoom Login ID`s are not given for the Feb ...</td>\n",
       "      <td>Exams</td>\n",
       "      <td>he oom ogin s are not given for the eb exam fr...</td>\n",
       "    </tr>\n",
       "    <tr>\n",
       "      <th>41650</th>\n",
       "      <td>After making the payment also _x000D_\\nuna...</td>\n",
       "      <td>Exams</td>\n",
       "      <td>fter making the payment also _ unable to downl...</td>\n",
       "    </tr>\n",
       "    <tr>\n",
       "      <th>...</th>\n",
       "      <td>...</td>\n",
       "      <td>...</td>\n",
       "      <td>...</td>\n",
       "    </tr>\n",
       "    <tr>\n",
       "      <th>39767</th>\n",
       "      <td>Dear Sir,_x000D_\\nOn 2nd November 2023 I recei...</td>\n",
       "      <td>Fee Related</td>\n",
       "      <td>ear ir _ n ovember received an email from rega...</td>\n",
       "    </tr>\n",
       "    <tr>\n",
       "      <th>15026</th>\n",
       "      <td>Dear Sir/ Madam,_x000D_\\n _x000D_\\nMy name is ...</td>\n",
       "      <td>Fee Related</td>\n",
       "      <td>ear ir adam _ _ y name is hikumbutso undwe and...</td>\n",
       "    </tr>\n",
       "    <tr>\n",
       "      <th>38265</th>\n",
       "      <td>Unable to generate a QR code to pay through UPI</td>\n",
       "      <td>Fee Related</td>\n",
       "      <td>nable to generate a code to pay through</td>\n",
       "    </tr>\n",
       "    <tr>\n",
       "      <th>32697</th>\n",
       "      <td>Dear Jian,_x000D_\\n_x000D_\\nAs my paym...</td>\n",
       "      <td>Fee Related</td>\n",
       "      <td>ear ian _ _ s my payment link as been expired ...</td>\n",
       "    </tr>\n",
       "    <tr>\n",
       "      <th>12545</th>\n",
       "      <td>Fee receipt not available</td>\n",
       "      <td>Fee Related</td>\n",
       "      <td>ee receipt not available</td>\n",
       "    </tr>\n",
       "  </tbody>\n",
       "</table>\n",
       "<p>8150 rows × 3 columns</p>\n",
       "</div>"
      ],
      "text/plain": [
       "                                         Student message        label  \\\n",
       "5711   When ever I open exam portal it shows I don't ...        Exams   \n",
       "38462  I am not getting an option to register myself ...        Exams   \n",
       "11382  I am unable to login to https://student.jgianv...        Exams   \n",
       "9379   The Zoom Login ID`s are not given for the Feb ...        Exams   \n",
       "41650      After making the payment also _x000D_\\nuna...        Exams   \n",
       "...                                                  ...          ...   \n",
       "39767  Dear Sir,_x000D_\\nOn 2nd November 2023 I recei...  Fee Related   \n",
       "15026  Dear Sir/ Madam,_x000D_\\n _x000D_\\nMy name is ...  Fee Related   \n",
       "38265    Unable to generate a QR code to pay through UPI  Fee Related   \n",
       "32697          Dear Jian,_x000D_\\n_x000D_\\nAs my paym...  Fee Related   \n",
       "12545                          Fee receipt not available  Fee Related   \n",
       "\n",
       "                                             cleaned_txt  \n",
       "5711   hen ever open exam portal it shows don t have ...  \n",
       "38462  am not getting an option to register myself fo...  \n",
       "11382  am unable to login to https student jgianvesha...  \n",
       "9379   he oom ogin s are not given for the eb exam fr...  \n",
       "41650  fter making the payment also _ unable to downl...  \n",
       "...                                                  ...  \n",
       "39767  ear ir _ n ovember received an email from rega...  \n",
       "15026  ear ir adam _ _ y name is hikumbutso undwe and...  \n",
       "38265            nable to generate a code to pay through  \n",
       "32697  ear ian _ _ s my payment link as been expired ...  \n",
       "12545                           ee receipt not available  \n",
       "\n",
       "[8150 rows x 3 columns]"
      ]
     },
     "execution_count": 26,
     "metadata": {},
     "output_type": "execute_result"
    }
   ],
   "source": [
    "df_balanced"
   ]
  },
  {
   "cell_type": "code",
   "execution_count": 23,
   "id": "cfa1ad64",
   "metadata": {},
   "outputs": [
    {
     "data": {
      "text/html": [
       "<div>\n",
       "<style scoped>\n",
       "    .dataframe tbody tr th:only-of-type {\n",
       "        vertical-align: middle;\n",
       "    }\n",
       "\n",
       "    .dataframe tbody tr th {\n",
       "        vertical-align: top;\n",
       "    }\n",
       "\n",
       "    .dataframe thead th {\n",
       "        text-align: right;\n",
       "    }\n",
       "</style>\n",
       "<table border=\"1\" class=\"dataframe\">\n",
       "  <thead>\n",
       "    <tr style=\"text-align: right;\">\n",
       "      <th></th>\n",
       "      <th>Summary</th>\n",
       "      <th>label</th>\n",
       "      <th>label_num</th>\n",
       "    </tr>\n",
       "  </thead>\n",
       "  <tbody>\n",
       "    <tr>\n",
       "      <th>13144</th>\n",
       "      <td>unable to launch  epic  from poc -tsc0ls and t...</td>\n",
       "      <td>Healthcare Application Issues</td>\n",
       "      <td>0</td>\n",
       "    </tr>\n",
       "    <tr>\n",
       "      <th>50412</th>\n",
       "      <td>nw- how to copy smart phrases</td>\n",
       "      <td>Healthcare Application Issues</td>\n",
       "      <td>0</td>\n",
       "    </tr>\n",
       "    <tr>\n",
       "      <th>11884</th>\n",
       "      <td>unable to print avs from multiple pc's after b...</td>\n",
       "      <td>Printer Issues</td>\n",
       "      <td>1</td>\n",
       "    </tr>\n",
       "    <tr>\n",
       "      <th>38112</th>\n",
       "      <td>printer needs to be be reouted to new pc</td>\n",
       "      <td>Printer Issues</td>\n",
       "      <td>1</td>\n",
       "    </tr>\n",
       "  </tbody>\n",
       "</table>\n",
       "</div>"
      ],
      "text/plain": [
       "                                                 Summary  \\\n",
       "13144  unable to launch  epic  from poc -tsc0ls and t...   \n",
       "50412                      nw- how to copy smart phrases   \n",
       "11884  unable to print avs from multiple pc's after b...   \n",
       "38112           printer needs to be be reouted to new pc   \n",
       "\n",
       "                               label  label_num  \n",
       "13144  Healthcare Application Issues          0  \n",
       "50412  Healthcare Application Issues          0  \n",
       "11884                 Printer Issues          1  \n",
       "38112                 Printer Issues          1  "
      ]
     },
     "execution_count": 23,
     "metadata": {},
     "output_type": "execute_result"
    }
   ],
   "source": [
    "# Create a Categorical variable with the selected categories\n",
    "category_mapping = pd.Categorical(df_balanced[\"label\"], categories=selected_categories, ordered=True)\n",
    "\n",
    "# Map categories to numbers (0 to 9)\n",
    "df_balanced[\"label_num\"] = category_mapping.codes\n",
    "df_balanced[['Summary','label','label_num']][998:1002]"
   ]
  },
  {
   "cell_type": "code",
   "execution_count": 23,
   "id": "ceaafaaa",
   "metadata": {},
   "outputs": [],
   "source": [
    "import re\n",
    "def clean_text(text):\n",
    "    '''\n",
    "    This method generates a clean text and returns a dataframe\n",
    "    '''\n",
    "    text = re.sub(r'(\\d{3})-(\\d{3})-(\\d{4})',' ', text)\n",
    "    text = re.sub(r'(\\d{2})/(\\d{2})',' ', text)\n",
    "    text = re.sub(r'\\S*@\\S*\\s?',' ', text)\n",
    "    text = re.sub(r'\\s+',' ', text)\n",
    "    text = re.sub(r'\\'',' ', text)\n",
    "    text = re.sub(r'<.*?>',' ', text)\n",
    "    text = re.sub(r'^https?:\\/\\/.*[\\r\\n]*',' ', text)\n",
    "    text = re.sub(r'[^0-9a-z #+_]',' ', text)\n",
    "    text = re.sub(r'\\(.*?\\)',' ', text)\n",
    "    text = re.sub(r'(\\w+\\.\\w+\\.com)',' ', text)\n",
    "    text = re.sub(r'\\w+\\d+\\w+|\\w+\\d+|\\d+\\w+',' ', text)\n",
    "    text = re.sub(r'\\d+|\\@|\\*|\\=|\\+|\\$|\\%|\\.\\.|\\#|-|\\[|\\]|\\?|\\\"',' ', text)\n",
    "    text = re.sub(r'[ \\n]+',' ', text)\n",
    "    return text.strip().lower()"
   ]
  },
  {
   "cell_type": "code",
   "execution_count": 20,
   "id": "fc257218",
   "metadata": {},
   "outputs": [],
   "source": [
    "# nlp = spacy.load(\"en_core_web_sm\")\n",
    "# def preprocess(text):\n",
    "#     doc = nlp(text)\n",
    "#     filtered_token = []\n",
    "#     for token in doc:\n",
    "#         if token.is_stop or token.is_punct:\n",
    "#             continue\n",
    "#         filtered_token.append(token.lemma_)\n",
    "        \n",
    "#     return wv.get_mean_vector(filtered_token)\n",
    "\n",
    "\n",
    "nlp = spacy.load(\"en_core_web_sm\")\n",
    "\n",
    "def preprocess(text):\n",
    "    doc = nlp(text)\n",
    "    filtered_tokens = []\n",
    "    for token in doc:\n",
    "        if token.is_stop or token.is_punct:\n",
    "            continue\n",
    "        filtered_tokens.append(token)  # Include the entire token object\n",
    "\n",
    "    # Calculate the mean vector using SpaCy's word vectors\n",
    "    if filtered_tokens:\n",
    "        mean_vector = sum(token.vector for token in filtered_tokens) / len(filtered_tokens)\n",
    "    else:\n",
    "        mean_vector = None  # Handle cases with no filtered tokens\n",
    "\n",
    "    return mean_vector\n"
   ]
  },
  {
   "cell_type": "code",
   "execution_count": 25,
   "id": "f974367a",
   "metadata": {},
   "outputs": [],
   "source": [
    "df_balanced['Student message'] = df_balanced['Student message'].astype(str)\n",
    "df_balanced['cleaned_txt'] = df_balanced['Student message'].apply(clean_text)\n",
    "# df_balanced['preprocess_txt'] = df_balanced['cleaned_txt'].apply(preprocess)"
   ]
  },
  {
   "cell_type": "code",
   "execution_count": 38,
   "id": "ce07012f",
   "metadata": {},
   "outputs": [
    {
     "name": "stdout",
     "output_type": "stream",
     "text": [
      "                    precision    recall  f1-score   support\n",
      "\n",
      "   Career Guidance       0.94      0.86      0.90       133\n",
      "      Certificates       0.79      0.79      0.79       108\n",
      "       Convocation       0.76      0.78      0.77       123\n",
      "Data and Documents       0.61      0.66      0.63       216\n",
      "        Enrollment       0.80      0.05      0.10        77\n",
      "             Exams       0.68      0.77      0.72       206\n",
      "       Fee Related       0.69      0.88      0.77       186\n",
      "           General       0.58      0.48      0.53       196\n",
      "               LMS       0.64      0.68      0.66       191\n",
      "            Refund       0.83      0.86      0.85       194\n",
      "\n",
      "          accuracy                           0.71      1630\n",
      "         macro avg       0.73      0.68      0.67      1630\n",
      "      weighted avg       0.71      0.71      0.69      1630\n",
      "\n"
     ]
    }
   ],
   "source": [
    "import pandas as pd\n",
    "from sklearn.model_selection import train_test_split\n",
    "from sklearn.feature_extraction.text import TfidfVectorizer\n",
    "from sklearn.ensemble import RandomForestClassifier\n",
    "from sklearn.metrics import classification_report\n",
    "\n",
    "X = df_balanced[\"cleaned_txt\"]\n",
    "y = df_balanced[\"label\"]\n",
    "\n",
    "# Split the data into training and testing sets\n",
    "X_train, X_test, y_train, y_test = train_test_split(X, y, test_size=0.2, random_state=42)\n",
    "\n",
    "# Vectorize the text data using TF-IDF\n",
    "vectorizer = TfidfVectorizer()\n",
    "X_train_tfidf = vectorizer.fit_transform(X_train)\n",
    "X_test_tfidf = vectorizer.transform(X_test)\n",
    "\n",
    "# Initialize and train the Random Forest classifier\n",
    "clf = RandomForestClassifier()\n",
    "clf.fit(X_train_tfidf, y_train)\n",
    "\n",
    "# Evaluate the classifier\n",
    "y_pred = clf.predict(X_test_tfidf)\n",
    "print(classification_report(y_test, y_pred))\n"
   ]
  },
  {
   "cell_type": "code",
   "execution_count": 58,
   "id": "bdbeaf81",
   "metadata": {},
   "outputs": [
    {
     "name": "stdout",
     "output_type": "stream",
     "text": [
      "Predictions: ['Career Guidance']\n"
     ]
    }
   ],
   "source": [
    "import joblib\n",
    "\n",
    "# Load the trained model from joblib file\n",
    "model = joblib.load(\"model.pkl\")\n",
    "vec = joblib.load(\"vectorizer.pkl\")\n",
    "\n",
    "\n",
    "\n",
    "# New texts for prediction\n",
    "new_texts = [\n",
    "             \"I need guidance with my career\"]\n",
    "\n",
    "# Vectorize the new texts using the loaded vectorizer\n",
    "new_texts_vectorized = vec.transform(new_texts)\n",
    "\n",
    "# Make predictions using the loaded model\n",
    "predictions = model.predict(new_texts_vectorized)\n",
    "\n",
    "print(\"Predictions:\", predictions)\n"
   ]
  },
  {
   "cell_type": "code",
   "execution_count": 48,
   "id": "6f4c987a",
   "metadata": {},
   "outputs": [
    {
     "name": "stdout",
     "output_type": "stream",
     "text": [
      "Predictions: ['Career Guidance']\n"
     ]
    }
   ],
   "source": [
    "\n",
    "new_texts = [\"I want to get assistance in my career to do Phd in AI\"]\n",
    "new_texts_vectorized = vectorizer.transform(new_texts)\n",
    "predictions = clf.predict(new_texts_vectorized)\n",
    "print(\"Predictions:\", predictions)\n",
    "\n",
    "\n",
    "\n"
   ]
  },
  {
   "cell_type": "code",
   "execution_count": 25,
   "id": "f62f37fc",
   "metadata": {},
   "outputs": [
    {
     "data": {
      "text/html": [
       "<div>\n",
       "<style scoped>\n",
       "    .dataframe tbody tr th:only-of-type {\n",
       "        vertical-align: middle;\n",
       "    }\n",
       "\n",
       "    .dataframe tbody tr th {\n",
       "        vertical-align: top;\n",
       "    }\n",
       "\n",
       "    .dataframe thead th {\n",
       "        text-align: right;\n",
       "    }\n",
       "</style>\n",
       "<table border=\"1\" class=\"dataframe\">\n",
       "  <thead>\n",
       "    <tr style=\"text-align: right;\">\n",
       "      <th></th>\n",
       "      <th>Incident_ID</th>\n",
       "      <th>Summary</th>\n",
       "      <th>cleaned_txt</th>\n",
       "      <th>label</th>\n",
       "      <th>label_num</th>\n",
       "    </tr>\n",
       "  </thead>\n",
       "  <tbody>\n",
       "    <tr>\n",
       "      <th>83671</th>\n",
       "      <td>INC2733418</td>\n",
       "      <td>kphc pc - 4 messages appeared today 1/15/19 wi...</td>\n",
       "      <td>kphc pc messages appeared today with past date...</td>\n",
       "      <td>Healthcare Application Issues</td>\n",
       "      <td>0</td>\n",
       "    </tr>\n",
       "    <tr>\n",
       "      <th>159641</th>\n",
       "      <td>INC4674911</td>\n",
       "      <td>afl/kphc: please unblock user (jennifer rousch...</td>\n",
       "      <td>afl kphc please unblock user jennifer rousch</td>\n",
       "      <td>Healthcare Application Issues</td>\n",
       "      <td>0</td>\n",
       "    </tr>\n",
       "    <tr>\n",
       "      <th>122614</th>\n",
       "      <td>INC4507611</td>\n",
       "      <td>duplicate accession nbm (jst)</td>\n",
       "      <td>duplicate accession nbm jst</td>\n",
       "      <td>Healthcare Application Issues</td>\n",
       "      <td>0</td>\n",
       "    </tr>\n",
       "    <tr>\n",
       "      <th>28806</th>\n",
       "      <td>INC1986402</td>\n",
       "      <td>sch / kphc inbasket - deployment messages appe...</td>\n",
       "      <td>sch kphc inbasket deployment messages appearin...</td>\n",
       "      <td>Healthcare Application Issues</td>\n",
       "      <td>0</td>\n",
       "    </tr>\n",
       "    <tr>\n",
       "      <th>160277</th>\n",
       "      <td>INC5151591</td>\n",
       "      <td>afl/kphc: please create the following pgp per ...</td>\n",
       "      <td>afl kphc please create the following pgp per a...</td>\n",
       "      <td>Healthcare Application Issues</td>\n",
       "      <td>0</td>\n",
       "    </tr>\n",
       "    <tr>\n",
       "      <th>...</th>\n",
       "      <td>...</td>\n",
       "      <td>...</td>\n",
       "      <td>...</td>\n",
       "      <td>...</td>\n",
       "      <td>...</td>\n",
       "    </tr>\n",
       "    <tr>\n",
       "      <th>153149</th>\n",
       "      <td>INC0562491</td>\n",
       "      <td>bp cant access 3m coding on pc cnsfoam3943234,...</td>\n",
       "      <td>bp cant access coding on pc it s not launching</td>\n",
       "      <td>Access Request</td>\n",
       "      <td>9</td>\n",
       "    </tr>\n",
       "    <tr>\n",
       "      <th>39601</th>\n",
       "      <td>INC1333248</td>\n",
       "      <td>please review bps access</td>\n",
       "      <td>please review bps access</td>\n",
       "      <td>Access Request</td>\n",
       "      <td>9</td>\n",
       "    </tr>\n",
       "    <tr>\n",
       "      <th>153138</th>\n",
       "      <td>INC0140987</td>\n",
       "      <td>bp cant access dragon on pc cnmboam3821780, er...</td>\n",
       "      <td>bp cant access dragon on pc error message inva...</td>\n",
       "      <td>Access Request</td>\n",
       "      <td>9</td>\n",
       "    </tr>\n",
       "    <tr>\n",
       "      <th>52908</th>\n",
       "      <td>INC5616723</td>\n",
       "      <td>no access to l&amp;d lead inpatient</td>\n",
       "      <td>no access to l d lead inpatient</td>\n",
       "      <td>Access Request</td>\n",
       "      <td>9</td>\n",
       "    </tr>\n",
       "    <tr>\n",
       "      <th>236616</th>\n",
       "      <td>INC1368720</td>\n",
       "      <td>kphc access needs to be modified for nuid x00...</td>\n",
       "      <td>kphc access needs to be modified for nuid ebon...</td>\n",
       "      <td>Access Request</td>\n",
       "      <td>9</td>\n",
       "    </tr>\n",
       "  </tbody>\n",
       "</table>\n",
       "<p>10000 rows × 5 columns</p>\n",
       "</div>"
      ],
      "text/plain": [
       "       Incident_ID                                            Summary  \\\n",
       "83671   INC2733418  kphc pc - 4 messages appeared today 1/15/19 wi...   \n",
       "159641  INC4674911  afl/kphc: please unblock user (jennifer rousch...   \n",
       "122614  INC4507611                      duplicate accession nbm (jst)   \n",
       "28806   INC1986402  sch / kphc inbasket - deployment messages appe...   \n",
       "160277  INC5151591  afl/kphc: please create the following pgp per ...   \n",
       "...            ...                                                ...   \n",
       "153149  INC0562491  bp cant access 3m coding on pc cnsfoam3943234,...   \n",
       "39601   INC1333248                           please review bps access   \n",
       "153138  INC0140987  bp cant access dragon on pc cnmboam3821780, er...   \n",
       "52908   INC5616723                    no access to l&d lead inpatient   \n",
       "236616  INC1368720   kphc access needs to be modified for nuid x00...   \n",
       "\n",
       "                                              cleaned_txt  \\\n",
       "83671   kphc pc messages appeared today with past date...   \n",
       "159641       afl kphc please unblock user jennifer rousch   \n",
       "122614                        duplicate accession nbm jst   \n",
       "28806   sch kphc inbasket deployment messages appearin...   \n",
       "160277  afl kphc please create the following pgp per a...   \n",
       "...                                                   ...   \n",
       "153149     bp cant access coding on pc it s not launching   \n",
       "39601                            please review bps access   \n",
       "153138  bp cant access dragon on pc error message inva...   \n",
       "52908                     no access to l d lead inpatient   \n",
       "236616  kphc access needs to be modified for nuid ebon...   \n",
       "\n",
       "                                label  label_num  \n",
       "83671   Healthcare Application Issues          0  \n",
       "159641  Healthcare Application Issues          0  \n",
       "122614  Healthcare Application Issues          0  \n",
       "28806   Healthcare Application Issues          0  \n",
       "160277  Healthcare Application Issues          0  \n",
       "...                               ...        ...  \n",
       "153149                 Access Request          9  \n",
       "39601                  Access Request          9  \n",
       "153138                 Access Request          9  \n",
       "52908                  Access Request          9  \n",
       "236616                 Access Request          9  \n",
       "\n",
       "[10000 rows x 5 columns]"
      ]
     },
     "execution_count": 25,
     "metadata": {},
     "output_type": "execute_result"
    }
   ],
   "source": [
    "df_balanced[['Incident_ID','Summary','cleaned_txt','label','label_num']]"
   ]
  },
  {
   "cell_type": "code",
   "execution_count": null,
   "id": "cd7e8ede",
   "metadata": {},
   "outputs": [],
   "source": [
    "X = df_balanced['preprocess_txt']\n",
    "y = df_balanced['label_num']"
   ]
  },
  {
   "cell_type": "code",
   "execution_count": 139,
   "id": "10e7ec40",
   "metadata": {},
   "outputs": [],
   "source": [
    "from sklearn.model_selection import train_test_split\n",
    "X_train, X_test, y_train, y_test = train_test_split(\n",
    "    X,\n",
    "    y,\n",
    "    test_size=0.2,\n",
    "    random_state=2022,\n",
    "    stratify=y,\n",
    ")"
   ]
  },
  {
   "cell_type": "code",
   "execution_count": null,
   "id": "245a00ad",
   "metadata": {},
   "outputs": [
    {
     "data": {
      "text/plain": [
       "((8000,), (2000,), (8000,), (2000,))"
      ]
     },
     "execution_count": 19,
     "metadata": {},
     "output_type": "execute_result"
    }
   ],
   "source": [
    "X_train.shape , X_test.shape, y_train.shape, y_test.shape"
   ]
  },
  {
   "cell_type": "code",
   "execution_count": null,
   "id": "f0f7fe4d",
   "metadata": {},
   "outputs": [
    {
     "data": {
      "text/plain": [
       "9    800\n",
       "6    800\n",
       "7    800\n",
       "0    800\n",
       "1    800\n",
       "5    800\n",
       "8    800\n",
       "4    800\n",
       "2    800\n",
       "3    800\n",
       "Name: label_num, dtype: int64"
      ]
     },
     "execution_count": 20,
     "metadata": {},
     "output_type": "execute_result"
    }
   ],
   "source": [
    "y_train.value_counts()"
   ]
  },
  {
   "cell_type": "code",
   "execution_count": 24,
   "id": "19109ca1",
   "metadata": {},
   "outputs": [],
   "source": [
    "X_train_2d = np.stack(X_train)\n",
    "X_test_2d = np.stack(X_test)"
   ]
  },
  {
   "cell_type": "code",
   "execution_count": 189,
   "id": "f83a5e5b",
   "metadata": {},
   "outputs": [],
   "source": [
    "from sklearn.ensemble import GradientBoostingClassifier\n",
    "from sklearn.metrics import classification_report"
   ]
  },
  {
   "cell_type": "code",
   "execution_count": 274,
   "id": "56e4501d",
   "metadata": {},
   "outputs": [
    {
     "data": {
      "text/plain": [
       "GradientBoostingClassifier()"
      ]
     },
     "execution_count": 274,
     "metadata": {},
     "output_type": "execute_result"
    }
   ],
   "source": [
    "model = GradientBoostingClassifier()\n",
    "model.fit(X_train_2d,y_train)"
   ]
  },
  {
   "cell_type": "code",
   "execution_count": 275,
   "id": "007e51b3",
   "metadata": {},
   "outputs": [
    {
     "data": {
      "text/plain": [
       "KNeighborsClassifier()"
      ]
     },
     "execution_count": 275,
     "metadata": {},
     "output_type": "execute_result"
    }
   ],
   "source": [
    "from sklearn.neighbors import KNeighborsClassifier\n",
    "knn_model = KNeighborsClassifier()\n",
    "knn_model.fit(X_train_2d,y_train)"
   ]
  },
  {
   "cell_type": "code",
   "execution_count": 276,
   "id": "ab4aeaec",
   "metadata": {},
   "outputs": [
    {
     "data": {
      "text/plain": [
       "RandomForestClassifier()"
      ]
     },
     "execution_count": 276,
     "metadata": {},
     "output_type": "execute_result"
    }
   ],
   "source": [
    "from sklearn.ensemble import RandomForestClassifier\n",
    "rfc_model = RandomForestClassifier()\n",
    "rfc_model.fit(X_train_2d,y_train)"
   ]
  },
  {
   "cell_type": "code",
   "execution_count": 32,
   "id": "fa59827d-4dbb-4f4d-a8bd-c47ab3b4f2e0",
   "metadata": {},
   "outputs": [
    {
     "ename": "ValueError",
     "evalue": "Unrecognized keyword arguments passed to Embedding: {'input_length': 250}",
     "output_type": "error",
     "traceback": [
      "\u001b[1;31m---------------------------------------------------------------------------\u001b[0m",
      "\u001b[1;31mValueError\u001b[0m                                Traceback (most recent call last)",
      "Cell \u001b[1;32mIn[32], line 34\u001b[0m\n\u001b[0;32m     30\u001b[0m val_padded \u001b[38;5;241m=\u001b[39m pad_sequences(val_sequences, maxlen\u001b[38;5;241m=\u001b[39mmax_sequence_length, padding\u001b[38;5;241m=\u001b[39m\u001b[38;5;124m'\u001b[39m\u001b[38;5;124mpost\u001b[39m\u001b[38;5;124m'\u001b[39m, truncating\u001b[38;5;241m=\u001b[39m\u001b[38;5;124m'\u001b[39m\u001b[38;5;124mpost\u001b[39m\u001b[38;5;124m'\u001b[39m)\n\u001b[0;32m     32\u001b[0m \u001b[38;5;66;03m# Create the LSTM model\u001b[39;00m\n\u001b[0;32m     33\u001b[0m model \u001b[38;5;241m=\u001b[39m tf\u001b[38;5;241m.\u001b[39mkeras\u001b[38;5;241m.\u001b[39mSequential([\n\u001b[1;32m---> 34\u001b[0m     \u001b[43mtf\u001b[49m\u001b[38;5;241;43m.\u001b[39;49m\u001b[43mkeras\u001b[49m\u001b[38;5;241;43m.\u001b[39;49m\u001b[43mlayers\u001b[49m\u001b[38;5;241;43m.\u001b[39;49m\u001b[43mEmbedding\u001b[49m\u001b[43m(\u001b[49m\u001b[43minput_dim\u001b[49m\u001b[38;5;241;43m=\u001b[39;49m\u001b[43mmax_words\u001b[49m\u001b[43m,\u001b[49m\u001b[43m \u001b[49m\u001b[43moutput_dim\u001b[49m\u001b[38;5;241;43m=\u001b[39;49m\u001b[43membedding_dim\u001b[49m\u001b[43m,\u001b[49m\u001b[43m \u001b[49m\u001b[43minput_length\u001b[49m\u001b[38;5;241;43m=\u001b[39;49m\u001b[43mmax_sequence_length\u001b[49m\u001b[43m)\u001b[49m,\n\u001b[0;32m     35\u001b[0m     tf\u001b[38;5;241m.\u001b[39mkeras\u001b[38;5;241m.\u001b[39mlayers\u001b[38;5;241m.\u001b[39mSpatialDropout1D(\u001b[38;5;241m0.2\u001b[39m),\n\u001b[0;32m     36\u001b[0m     tf\u001b[38;5;241m.\u001b[39mkeras\u001b[38;5;241m.\u001b[39mlayers\u001b[38;5;241m.\u001b[39mLSTM(hidden_units, return_sequences\u001b[38;5;241m=\u001b[39m\u001b[38;5;28;01mTrue\u001b[39;00m, dropout\u001b[38;5;241m=\u001b[39m\u001b[38;5;241m0.2\u001b[39m, recurrent_dropout\u001b[38;5;241m=\u001b[39m\u001b[38;5;241m0.2\u001b[39m),\n\u001b[0;32m     37\u001b[0m     tf\u001b[38;5;241m.\u001b[39mkeras\u001b[38;5;241m.\u001b[39mlayers\u001b[38;5;241m.\u001b[39mLSTM(hidden_units, dropout\u001b[38;5;241m=\u001b[39m\u001b[38;5;241m0.2\u001b[39m, recurrent_dropout\u001b[38;5;241m=\u001b[39m\u001b[38;5;241m0.2\u001b[39m),\n\u001b[0;32m     38\u001b[0m     tf\u001b[38;5;241m.\u001b[39mkeras\u001b[38;5;241m.\u001b[39mlayers\u001b[38;5;241m.\u001b[39mDense(output_dim, activation\u001b[38;5;241m=\u001b[39m\u001b[38;5;124m'\u001b[39m\u001b[38;5;124msoftmax\u001b[39m\u001b[38;5;124m'\u001b[39m)\n\u001b[0;32m     39\u001b[0m ])\n\u001b[0;32m     41\u001b[0m \u001b[38;5;66;03m# Compile the model\u001b[39;00m\n\u001b[0;32m     42\u001b[0m model\u001b[38;5;241m.\u001b[39mcompile(optimizer\u001b[38;5;241m=\u001b[39m\u001b[38;5;124m'\u001b[39m\u001b[38;5;124madam\u001b[39m\u001b[38;5;124m'\u001b[39m, loss\u001b[38;5;241m=\u001b[39m\u001b[38;5;124m'\u001b[39m\u001b[38;5;124mcategorical_crossentropy\u001b[39m\u001b[38;5;124m'\u001b[39m, metrics\u001b[38;5;241m=\u001b[39m[\u001b[38;5;124m'\u001b[39m\u001b[38;5;124maccuracy\u001b[39m\u001b[38;5;124m'\u001b[39m])\n",
      "File \u001b[1;32mc:\\Users\\G073080a\\Documents\\ITCE_Storage\\itce\\lib\\site-packages\\keras\\src\\layers\\core\\embedding.py:81\u001b[0m, in \u001b[0;36mEmbedding.__init__\u001b[1;34m(self, input_dim, output_dim, embeddings_initializer, embeddings_regularizer, embeddings_constraint, mask_zero, lora_rank, **kwargs)\u001b[0m\n\u001b[0;32m     70\u001b[0m \u001b[38;5;28;01mdef\u001b[39;00m \u001b[38;5;21m__init__\u001b[39m(\n\u001b[0;32m     71\u001b[0m     \u001b[38;5;28mself\u001b[39m,\n\u001b[0;32m     72\u001b[0m     input_dim,\n\u001b[1;32m   (...)\u001b[0m\n\u001b[0;32m     79\u001b[0m     \u001b[38;5;241m*\u001b[39m\u001b[38;5;241m*\u001b[39mkwargs,\n\u001b[0;32m     80\u001b[0m ):\n\u001b[1;32m---> 81\u001b[0m     \u001b[38;5;28msuper\u001b[39m()\u001b[38;5;241m.\u001b[39m\u001b[38;5;21m__init__\u001b[39m(\u001b[38;5;241m*\u001b[39m\u001b[38;5;241m*\u001b[39mkwargs)\n\u001b[0;32m     82\u001b[0m     \u001b[38;5;28mself\u001b[39m\u001b[38;5;241m.\u001b[39minput_dim \u001b[38;5;241m=\u001b[39m input_dim\n\u001b[0;32m     83\u001b[0m     \u001b[38;5;28mself\u001b[39m\u001b[38;5;241m.\u001b[39moutput_dim \u001b[38;5;241m=\u001b[39m output_dim\n",
      "File \u001b[1;32mc:\\Users\\G073080a\\Documents\\ITCE_Storage\\itce\\lib\\site-packages\\keras\\src\\layers\\layer.py:264\u001b[0m, in \u001b[0;36mLayer.__init__\u001b[1;34m(self, activity_regularizer, trainable, dtype, autocast, name, **kwargs)\u001b[0m\n\u001b[0;32m    262\u001b[0m     \u001b[38;5;28mself\u001b[39m\u001b[38;5;241m.\u001b[39m_input_shape_arg \u001b[38;5;241m=\u001b[39m input_shape_arg\n\u001b[0;32m    263\u001b[0m \u001b[38;5;28;01mif\u001b[39;00m kwargs:\n\u001b[1;32m--> 264\u001b[0m     \u001b[38;5;28;01mraise\u001b[39;00m \u001b[38;5;167;01mValueError\u001b[39;00m(\n\u001b[0;32m    265\u001b[0m         \u001b[38;5;124m\"\u001b[39m\u001b[38;5;124mUnrecognized keyword arguments \u001b[39m\u001b[38;5;124m\"\u001b[39m\n\u001b[0;32m    266\u001b[0m         \u001b[38;5;124mf\u001b[39m\u001b[38;5;124m\"\u001b[39m\u001b[38;5;124mpassed to \u001b[39m\u001b[38;5;132;01m{\u001b[39;00m\u001b[38;5;28mself\u001b[39m\u001b[38;5;241m.\u001b[39m\u001b[38;5;18m__class__\u001b[39m\u001b[38;5;241m.\u001b[39m\u001b[38;5;18m__name__\u001b[39m\u001b[38;5;132;01m}\u001b[39;00m\u001b[38;5;124m: \u001b[39m\u001b[38;5;132;01m{\u001b[39;00mkwargs\u001b[38;5;132;01m}\u001b[39;00m\u001b[38;5;124m\"\u001b[39m\n\u001b[0;32m    267\u001b[0m     )\n\u001b[0;32m    269\u001b[0m \u001b[38;5;28mself\u001b[39m\u001b[38;5;241m.\u001b[39mbuilt \u001b[38;5;241m=\u001b[39m \u001b[38;5;28;01mFalse\u001b[39;00m\n\u001b[0;32m    270\u001b[0m \u001b[38;5;28mself\u001b[39m\u001b[38;5;241m.\u001b[39mautocast \u001b[38;5;241m=\u001b[39m autocast\n",
      "\u001b[1;31mValueError\u001b[0m: Unrecognized keyword arguments passed to Embedding: {'input_length': 250}"
     ]
    }
   ],
   "source": [
    "import pandas as pd\n",
    "import numpy as np\n",
    "import tensorflow as tf\n",
    "from sklearn.model_selection import train_test_split\n",
    "from tensorflow.keras.preprocessing.text import Tokenizer\n",
    "from tensorflow.keras.preprocessing.sequence import pad_sequences\n",
    "\n",
    "# Load your preprocessed DataFrame\n",
    "# df_balanced = ...\n",
    "\n",
    "# Split data into training and validation sets\n",
    "train_data, val_data = train_test_split(df_balanced, test_size=0.2, random_state=42)\n",
    "\n",
    "# Parameters\n",
    "max_words = 50000  # Maximum number of words in the vocabulary\n",
    "max_sequence_length = 250  # Maximum sequence length for padding\n",
    "embedding_dim = 100  # Dimension of word embeddings\n",
    "hidden_units = 128  # Number of units in LSTM layers\n",
    "output_dim = 10  # Dimensionality of output\n",
    "\n",
    "# Tokenize the text data\n",
    "tokenizer = Tokenizer(num_words=max_words, oov_token='<OOV>')\n",
    "tokenizer.fit_on_texts(train_data['cleaned_txt'].values)\n",
    "\n",
    "# Convert text to sequences and pad them\n",
    "train_sequences = tokenizer.texts_to_sequences(train_data['cleaned_txt'].values)\n",
    "train_padded = pad_sequences(train_sequences, maxlen=max_sequence_length, padding='post', truncating='post')\n",
    "\n",
    "val_sequences = tokenizer.texts_to_sequences(val_data['cleaned_txt'].values)\n",
    "val_padded = pad_sequences(val_sequences, maxlen=max_sequence_length, padding='post', truncating='post')\n",
    "\n",
    "# Create the LSTM model\n",
    "model = tf.keras.Sequential([\n",
    "    tf.keras.layers.Embedding(input_dim=max_words, output_dim=embedding_dim, input_length=max_sequence_length),\n",
    "    tf.keras.layers.SpatialDropout1D(0.2),\n",
    "    tf.keras.layers.LSTM(hidden_units, return_sequences=True, dropout=0.2, recurrent_dropout=0.2),\n",
    "    tf.keras.layers.LSTM(hidden_units, dropout=0.2, recurrent_dropout=0.2),\n",
    "    tf.keras.layers.Dense(output_dim, activation='softmax')\n",
    "])\n",
    "\n",
    "# Compile the model\n",
    "model.compile(optimizer='adam', loss='categorical_crossentropy', metrics=['accuracy'])\n",
    "\n",
    "# Train the model\n",
    "#model.fit(train_padded, train_data['label'], epochs=10, validation_data=(val_padded, val_data['label']))\n",
    "model.fit(train_padded, Y, epochs=10, batch_size=batch_size,validation_split=0.1,callbacks=[EarlyStopping(monitor='val_loss', patience=3, min_delta=0.0001)])\n",
    "     \n",
    "\n",
    "# Evaluate the model\n",
    "loss, accuracy = model.evaluate(val_padded, val_data['label'])\n",
    "print(f\"Validation loss: {loss:.4f}, Validation accuracy: {accuracy:.4f}\")\n"
   ]
  },
  {
   "cell_type": "code",
   "execution_count": 33,
   "id": "859656b1-5570-4a18-b69b-f6ed51c8d897",
   "metadata": {},
   "outputs": [
    {
     "name": "stdout",
     "output_type": "stream",
     "text": [
      "Found 6710 unique tokens.\n"
     ]
    }
   ],
   "source": [
    "\n",
    "# The maximum number of words to be used. (most frequent)\n",
    "MAX_NB_WORDS = 50000\n",
    "# Max number of words in each complaint.\n",
    "MAX_SEQUENCE_LENGTH = 250\n",
    "# This is fixed.\n",
    "EMBEDDING_DIM = 100\n",
    "\n",
    "tokenizer = Tokenizer(num_words=MAX_NB_WORDS, lower=True)\n",
    "tokenizer.fit_on_texts(df_balanced['cleaned_txt'].values)\n",
    "word_index = tokenizer.word_index\n",
    "print('Found %s unique tokens.' % len(word_index))"
   ]
  },
  {
   "cell_type": "code",
   "execution_count": 34,
   "id": "6146b63b-8c10-44be-b48c-1008b83da688",
   "metadata": {},
   "outputs": [
    {
     "name": "stdout",
     "output_type": "stream",
     "text": [
      "Shape of data tensor: (10000, 250)\n"
     ]
    }
   ],
   "source": [
    "X = tokenizer.texts_to_sequences(df_balanced['cleaned_txt'].values)\n",
    "X = pad_sequences(X, maxlen=MAX_SEQUENCE_LENGTH)\n",
    "print('Shape of data tensor:', X.shape)\n"
   ]
  },
  {
   "cell_type": "code",
   "execution_count": 35,
   "id": "0edd9700-2eab-4b11-9135-9c51560e3487",
   "metadata": {},
   "outputs": [
    {
     "name": "stdout",
     "output_type": "stream",
     "text": [
      "Shape of label tensor: (10000, 10)\n"
     ]
    }
   ],
   "source": [
    "Y = pd.get_dummies(df_balanced['label']).values\n",
    "Y_classes = pd.get_dummies(df_balanced['label']).columns.tolist()\n",
    "print('Shape of label tensor:', Y.shape)\n"
   ]
  },
  {
   "cell_type": "code",
   "execution_count": 36,
   "id": "9049f134-f5ed-48c1-b568-a3706b071e5b",
   "metadata": {},
   "outputs": [
    {
     "name": "stdout",
     "output_type": "stream",
     "text": [
      "(8000, 250) (8000, 10)\n",
      "(2000, 250) (2000, 10)\n"
     ]
    }
   ],
   "source": [
    "X_train, X_test, Y_train, Y_test = train_test_split(X,Y, test_size = 0.2, random_state = 42)\n",
    "print(X_train.shape,Y_train.shape)\n",
    "print(X_test.shape,Y_test.shape)"
   ]
  },
  {
   "cell_type": "code",
   "execution_count": 37,
   "id": "02d7c428-67ee-4501-b00b-3cb75a8fece9",
   "metadata": {
    "tags": []
   },
   "outputs": [
    {
     "data": {
      "text/html": [
       "<pre style=\"white-space:pre;overflow-x:auto;line-height:normal;font-family:Menlo,'DejaVu Sans Mono',consolas,'Courier New',monospace\"><span style=\"font-weight: bold\">Model: \"sequential\"</span>\n",
       "</pre>\n"
      ],
      "text/plain": [
       "\u001b[1mModel: \"sequential\"\u001b[0m\n"
      ]
     },
     "metadata": {},
     "output_type": "display_data"
    },
    {
     "data": {
      "text/html": [
       "<pre style=\"white-space:pre;overflow-x:auto;line-height:normal;font-family:Menlo,'DejaVu Sans Mono',consolas,'Courier New',monospace\">┏━━━━━━━━━━━━━━━━━━━━━━━━━━━━━━━━━┳━━━━━━━━━━━━━━━━━━━━━━━━┳━━━━━━━━━━━━━━━┓\n",
       "┃<span style=\"font-weight: bold\"> Layer (type)                    </span>┃<span style=\"font-weight: bold\"> Output Shape           </span>┃<span style=\"font-weight: bold\">       Param # </span>┃\n",
       "┡━━━━━━━━━━━━━━━━━━━━━━━━━━━━━━━━━╇━━━━━━━━━━━━━━━━━━━━━━━━╇━━━━━━━━━━━━━━━┩\n",
       "│ embedding_1 (<span style=\"color: #0087ff; text-decoration-color: #0087ff\">Embedding</span>)         │ ?                      │   <span style=\"color: #00af00; text-decoration-color: #00af00\">0</span> (unbuilt) │\n",
       "├─────────────────────────────────┼────────────────────────┼───────────────┤\n",
       "│ spatial_dropout1d               │ ?                      │             <span style=\"color: #00af00; text-decoration-color: #00af00\">0</span> │\n",
       "│ (<span style=\"color: #0087ff; text-decoration-color: #0087ff\">SpatialDropout1D</span>)              │                        │               │\n",
       "├─────────────────────────────────┼────────────────────────┼───────────────┤\n",
       "│ lstm (<span style=\"color: #0087ff; text-decoration-color: #0087ff\">LSTM</span>)                     │ ?                      │   <span style=\"color: #00af00; text-decoration-color: #00af00\">0</span> (unbuilt) │\n",
       "├─────────────────────────────────┼────────────────────────┼───────────────┤\n",
       "│ lstm_1 (<span style=\"color: #0087ff; text-decoration-color: #0087ff\">LSTM</span>)                   │ ?                      │   <span style=\"color: #00af00; text-decoration-color: #00af00\">0</span> (unbuilt) │\n",
       "├─────────────────────────────────┼────────────────────────┼───────────────┤\n",
       "│ lstm_2 (<span style=\"color: #0087ff; text-decoration-color: #0087ff\">LSTM</span>)                   │ ?                      │   <span style=\"color: #00af00; text-decoration-color: #00af00\">0</span> (unbuilt) │\n",
       "├─────────────────────────────────┼────────────────────────┼───────────────┤\n",
       "│ dense (<span style=\"color: #0087ff; text-decoration-color: #0087ff\">Dense</span>)                   │ ?                      │   <span style=\"color: #00af00; text-decoration-color: #00af00\">0</span> (unbuilt) │\n",
       "└─────────────────────────────────┴────────────────────────┴───────────────┘\n",
       "</pre>\n"
      ],
      "text/plain": [
       "┏━━━━━━━━━━━━━━━━━━━━━━━━━━━━━━━━━┳━━━━━━━━━━━━━━━━━━━━━━━━┳━━━━━━━━━━━━━━━┓\n",
       "┃\u001b[1m \u001b[0m\u001b[1mLayer (type)                   \u001b[0m\u001b[1m \u001b[0m┃\u001b[1m \u001b[0m\u001b[1mOutput Shape          \u001b[0m\u001b[1m \u001b[0m┃\u001b[1m \u001b[0m\u001b[1m      Param #\u001b[0m\u001b[1m \u001b[0m┃\n",
       "┡━━━━━━━━━━━━━━━━━━━━━━━━━━━━━━━━━╇━━━━━━━━━━━━━━━━━━━━━━━━╇━━━━━━━━━━━━━━━┩\n",
       "│ embedding_1 (\u001b[38;5;33mEmbedding\u001b[0m)         │ ?                      │   \u001b[38;5;34m0\u001b[0m (unbuilt) │\n",
       "├─────────────────────────────────┼────────────────────────┼───────────────┤\n",
       "│ spatial_dropout1d               │ ?                      │             \u001b[38;5;34m0\u001b[0m │\n",
       "│ (\u001b[38;5;33mSpatialDropout1D\u001b[0m)              │                        │               │\n",
       "├─────────────────────────────────┼────────────────────────┼───────────────┤\n",
       "│ lstm (\u001b[38;5;33mLSTM\u001b[0m)                     │ ?                      │   \u001b[38;5;34m0\u001b[0m (unbuilt) │\n",
       "├─────────────────────────────────┼────────────────────────┼───────────────┤\n",
       "│ lstm_1 (\u001b[38;5;33mLSTM\u001b[0m)                   │ ?                      │   \u001b[38;5;34m0\u001b[0m (unbuilt) │\n",
       "├─────────────────────────────────┼────────────────────────┼───────────────┤\n",
       "│ lstm_2 (\u001b[38;5;33mLSTM\u001b[0m)                   │ ?                      │   \u001b[38;5;34m0\u001b[0m (unbuilt) │\n",
       "├─────────────────────────────────┼────────────────────────┼───────────────┤\n",
       "│ dense (\u001b[38;5;33mDense\u001b[0m)                   │ ?                      │   \u001b[38;5;34m0\u001b[0m (unbuilt) │\n",
       "└─────────────────────────────────┴────────────────────────┴───────────────┘\n"
      ]
     },
     "metadata": {},
     "output_type": "display_data"
    },
    {
     "data": {
      "text/html": [
       "<pre style=\"white-space:pre;overflow-x:auto;line-height:normal;font-family:Menlo,'DejaVu Sans Mono',consolas,'Courier New',monospace\"><span style=\"font-weight: bold\"> Total params: </span><span style=\"color: #00af00; text-decoration-color: #00af00\">0</span> (0.00 B)\n",
       "</pre>\n"
      ],
      "text/plain": [
       "\u001b[1m Total params: \u001b[0m\u001b[38;5;34m0\u001b[0m (0.00 B)\n"
      ]
     },
     "metadata": {},
     "output_type": "display_data"
    },
    {
     "data": {
      "text/html": [
       "<pre style=\"white-space:pre;overflow-x:auto;line-height:normal;font-family:Menlo,'DejaVu Sans Mono',consolas,'Courier New',monospace\"><span style=\"font-weight: bold\"> Trainable params: </span><span style=\"color: #00af00; text-decoration-color: #00af00\">0</span> (0.00 B)\n",
       "</pre>\n"
      ],
      "text/plain": [
       "\u001b[1m Trainable params: \u001b[0m\u001b[38;5;34m0\u001b[0m (0.00 B)\n"
      ]
     },
     "metadata": {},
     "output_type": "display_data"
    },
    {
     "data": {
      "text/html": [
       "<pre style=\"white-space:pre;overflow-x:auto;line-height:normal;font-family:Menlo,'DejaVu Sans Mono',consolas,'Courier New',monospace\"><span style=\"font-weight: bold\"> Non-trainable params: </span><span style=\"color: #00af00; text-decoration-color: #00af00\">0</span> (0.00 B)\n",
       "</pre>\n"
      ],
      "text/plain": [
       "\u001b[1m Non-trainable params: \u001b[0m\u001b[38;5;34m0\u001b[0m (0.00 B)\n"
      ]
     },
     "metadata": {},
     "output_type": "display_data"
    },
    {
     "name": "stdout",
     "output_type": "stream",
     "text": [
      "None\n"
     ]
    }
   ],
   "source": [
    "model = Sequential()\n",
    "model.add(Embedding(MAX_NB_WORDS, EMBEDDING_DIM))\n",
    "model.add(SpatialDropout1D(0.2))\n",
    "model.add(LSTM(256, return_sequences=True, dropout=0.2, recurrent_dropout=0.2))\n",
    "model.add(LSTM(128, return_sequences=True,dropout=0.2, recurrent_dropout=0.2))\n",
    "model.add(LSTM(64,dropout=0.2, recurrent_dropout=0.2))\n",
    "model.add(Dense(10, activation='softmax'))\n",
    "model.compile(loss='categorical_crossentropy', optimizer='adam', metrics=['accuracy'])\n",
    "print(model.summary())"
   ]
  },
  {
   "cell_type": "code",
   "execution_count": 2,
   "id": "bf8e6176-83f6-4f33-94c5-b53e29b57d80",
   "metadata": {},
   "outputs": [
    {
     "ename": "NameError",
     "evalue": "name 'model' is not defined",
     "output_type": "error",
     "traceback": [
      "\u001b[1;31m---------------------------------------------------------------------------\u001b[0m",
      "\u001b[1;31mNameError\u001b[0m                                 Traceback (most recent call last)",
      "Cell \u001b[1;32mIn[2], line 5\u001b[0m\n\u001b[0;32m      2\u001b[0m epochs \u001b[38;5;241m=\u001b[39m \u001b[38;5;241m10\u001b[39m\n\u001b[0;32m      3\u001b[0m batch_size \u001b[38;5;241m=\u001b[39m \u001b[38;5;241m32\u001b[39m\n\u001b[1;32m----> 5\u001b[0m model \u001b[38;5;241m=\u001b[39m \u001b[43mmodel\u001b[49m\u001b[38;5;241m.\u001b[39mfit(X_train, Y_train, epochs\u001b[38;5;241m=\u001b[39mepochs, batch_size\u001b[38;5;241m=\u001b[39mbatch_size,validation_split\u001b[38;5;241m=\u001b[39m\u001b[38;5;241m0.1\u001b[39m,callbacks\u001b[38;5;241m=\u001b[39m[EarlyStopping(monitor\u001b[38;5;241m=\u001b[39m\u001b[38;5;124m'\u001b[39m\u001b[38;5;124mval_loss\u001b[39m\u001b[38;5;124m'\u001b[39m, patience\u001b[38;5;241m=\u001b[39m\u001b[38;5;241m3\u001b[39m, min_delta\u001b[38;5;241m=\u001b[39m\u001b[38;5;241m0.0001\u001b[39m)])\n",
      "\u001b[1;31mNameError\u001b[0m: name 'model' is not defined"
     ]
    }
   ],
   "source": [
    "from tensorflow.keras.callbacks import EarlyStopping\n",
    "epochs = 10\n",
    "batch_size = 32\n",
    "\n",
    "model = model.fit(X_train, Y_train, epochs=epochs, batch_size=batch_size,validation_split=0.1,callbacks=[EarlyStopping(monitor='val_loss', patience=3, min_delta=0.0001)])\n",
    "     "
   ]
  },
  {
   "cell_type": "code",
   "execution_count": 1,
   "id": "4f27c148-5768-4692-a0cd-2ae4b8327f8c",
   "metadata": {},
   "outputs": [
    {
     "ename": "NameError",
     "evalue": "name 'model' is not defined",
     "output_type": "error",
     "traceback": [
      "\u001b[1;31m---------------------------------------------------------------------------\u001b[0m",
      "\u001b[1;31mNameError\u001b[0m                                 Traceback (most recent call last)",
      "Cell \u001b[1;32mIn[1], line 1\u001b[0m\n\u001b[1;32m----> 1\u001b[0m accr \u001b[38;5;241m=\u001b[39m \u001b[43mmodel\u001b[49m\u001b[38;5;241m.\u001b[39mevaluate(X_test,Y_test)\n\u001b[0;32m      2\u001b[0m \u001b[38;5;28mprint\u001b[39m(\u001b[38;5;124m'\u001b[39m\u001b[38;5;124mTest set\u001b[39m\u001b[38;5;130;01m\\n\u001b[39;00m\u001b[38;5;124m  Loss: \u001b[39m\u001b[38;5;124m'\u001b[39m,accr[\u001b[38;5;241m0\u001b[39m],\u001b[38;5;124m\"\u001b[39m\u001b[38;5;130;01m\\n\u001b[39;00m\u001b[38;5;124m  Accuracy:\u001b[39m\u001b[38;5;124m\"\u001b[39m, accr[\u001b[38;5;241m1\u001b[39m])\n",
      "\u001b[1;31mNameError\u001b[0m: name 'model' is not defined"
     ]
    }
   ],
   "source": [
    "accr = model.evaluate(X_test,Y_test)\n",
    "print('Test set\\n  Loss: ',accr[0],\"\\n  Accuracy:\", accr[1])"
   ]
  },
  {
   "cell_type": "code",
   "execution_count": 155,
   "id": "02344e86-ae4d-41f8-81f3-c21fde8b2281",
   "metadata": {},
   "outputs": [
    {
     "data": {
      "text/plain": [
       "[0.48152288794517517, 0.8634999990463257]"
      ]
     },
     "execution_count": 155,
     "metadata": {},
     "output_type": "execute_result"
    }
   ],
   "source": [
    "accr"
   ]
  },
  {
   "cell_type": "code",
   "execution_count": 152,
   "id": "8cb72dc6-430b-45b5-83a8-6ea9410425ac",
   "metadata": {},
   "outputs": [
    {
     "name": "stdout",
     "output_type": "stream",
     "text": [
      "              precision    recall  f1-score   support\n",
      "\n",
      "           0       0.70      0.87      0.77       412\n",
      "           1       0.87      0.66      0.75       382\n",
      "           2       0.93      0.94      0.94       397\n",
      "           3       1.00      1.00      1.00       402\n",
      "           4       0.82      0.84      0.83       352\n",
      "           5       0.76      0.70      0.73       413\n",
      "           6       0.89      0.92      0.91       387\n",
      "           7       0.94      0.91      0.93       413\n",
      "           8       0.81      0.74      0.78       413\n",
      "           9       0.98      0.99      0.98       429\n",
      "\n",
      "   micro avg       0.87      0.86      0.86      4000\n",
      "   macro avg       0.87      0.86      0.86      4000\n",
      "weighted avg       0.87      0.86      0.86      4000\n",
      " samples avg       0.86      0.86      0.86      4000\n",
      "\n"
     ]
    },
    {
     "name": "stderr",
     "output_type": "stream",
     "text": [
      "C:\\Users\\NitinKumar\\anaconda3\\lib\\site-packages\\sklearn\\metrics\\_classification.py:1248: UndefinedMetricWarning: Precision and F-score are ill-defined and being set to 0.0 in samples with no predicted labels. Use `zero_division` parameter to control this behavior.\n",
      "  _warn_prf(average, modifier, msg_start, len(result))\n"
     ]
    }
   ],
   "source": [
    "pred = (pred > 0.5).astype('uint8')\n",
    "print(classification_report(Y_test, pred))"
   ]
  },
  {
   "cell_type": "code",
   "execution_count": 151,
   "id": "843b3793-d052-440f-80f2-8bccb6f67dc6",
   "metadata": {},
   "outputs": [
    {
     "name": "stdout",
     "output_type": "stream",
     "text": [
      "125/125 [==============================] - 196s 2s/step\n"
     ]
    }
   ],
   "source": [
    "pred = model.predict(X_test)"
   ]
  },
  {
   "cell_type": "code",
   "execution_count": 227,
   "id": "3d8a724c-f457-4919-bc50-a18de7de5036",
   "metadata": {},
   "outputs": [
    {
     "data": {
      "text/html": [
       "<div>\n",
       "<style scoped>\n",
       "    .dataframe tbody tr th:only-of-type {\n",
       "        vertical-align: middle;\n",
       "    }\n",
       "\n",
       "    .dataframe tbody tr th {\n",
       "        vertical-align: top;\n",
       "    }\n",
       "\n",
       "    .dataframe thead th {\n",
       "        text-align: right;\n",
       "    }\n",
       "</style>\n",
       "<table border=\"1\" class=\"dataframe\">\n",
       "  <thead>\n",
       "    <tr style=\"text-align: right;\">\n",
       "      <th></th>\n",
       "      <th>Incident_ID</th>\n",
       "      <th>Summary</th>\n",
       "      <th>ContactType</th>\n",
       "      <th>label</th>\n",
       "      <th>label_num</th>\n",
       "      <th>cleaned_txt</th>\n",
       "      <th>preprocess_txt</th>\n",
       "      <th>predicted_labels</th>\n",
       "    </tr>\n",
       "  </thead>\n",
       "  <tbody>\n",
       "    <tr>\n",
       "      <th>83671</th>\n",
       "      <td>INC2733418</td>\n",
       "      <td>kphc pc - 4 messages appeared today 1/15/19 wi...</td>\n",
       "      <td>Phone</td>\n",
       "      <td>Healthcare Application Issues</td>\n",
       "      <td>0</td>\n",
       "      <td>kphc pc messages appeared today with past date...</td>\n",
       "      <td>[0.0023100306, 0.0020563602, -0.033805262, 0.0...</td>\n",
       "      <td>Access Issues</td>\n",
       "    </tr>\n",
       "    <tr>\n",
       "      <th>159641</th>\n",
       "      <td>INC4674911</td>\n",
       "      <td>afl/kphc: please unblock user (jennifer rousch...</td>\n",
       "      <td>Phone</td>\n",
       "      <td>Healthcare Application Issues</td>\n",
       "      <td>0</td>\n",
       "      <td>afl kphc please unblock user jennifer rousch</td>\n",
       "      <td>[-0.028580325, -0.034724783, -0.0048503876, 0....</td>\n",
       "      <td>Access Issues</td>\n",
       "    </tr>\n",
       "    <tr>\n",
       "      <th>122614</th>\n",
       "      <td>INC4507611</td>\n",
       "      <td>duplicate accession nbm (jst)</td>\n",
       "      <td>Direct Input</td>\n",
       "      <td>Healthcare Application Issues</td>\n",
       "      <td>0</td>\n",
       "      <td>duplicate accession nbm jst</td>\n",
       "      <td>[0.0014920966, 0.05120204, 0.009963634, 0.0480...</td>\n",
       "      <td>Access Issues</td>\n",
       "    </tr>\n",
       "    <tr>\n",
       "      <th>28806</th>\n",
       "      <td>INC1986402</td>\n",
       "      <td>sch / kphc inbasket - deployment messages appe...</td>\n",
       "      <td>Phone</td>\n",
       "      <td>Healthcare Application Issues</td>\n",
       "      <td>0</td>\n",
       "      <td>sch kphc inbasket deployment messages appearin...</td>\n",
       "      <td>[0.015064738, 0.022793, -0.0089196125, 0.03076...</td>\n",
       "      <td>Chart Issues</td>\n",
       "    </tr>\n",
       "    <tr>\n",
       "      <th>160277</th>\n",
       "      <td>INC5151591</td>\n",
       "      <td>afl/kphc: please create the following pgp per ...</td>\n",
       "      <td>Email</td>\n",
       "      <td>Healthcare Application Issues</td>\n",
       "      <td>0</td>\n",
       "      <td>afl kphc please create the following pgp per a...</td>\n",
       "      <td>[0.0064416626, -0.010304711, 0.0069559594, 0.0...</td>\n",
       "      <td>Access Issues</td>\n",
       "    </tr>\n",
       "    <tr>\n",
       "      <th>...</th>\n",
       "      <td>...</td>\n",
       "      <td>...</td>\n",
       "      <td>...</td>\n",
       "      <td>...</td>\n",
       "      <td>...</td>\n",
       "      <td>...</td>\n",
       "      <td>...</td>\n",
       "      <td>...</td>\n",
       "    </tr>\n",
       "    <tr>\n",
       "      <th>153149</th>\n",
       "      <td>INC0562491</td>\n",
       "      <td>bp cant access 3m coding on pc cnsfoam3943234,...</td>\n",
       "      <td>Phone</td>\n",
       "      <td>Access Request</td>\n",
       "      <td>9</td>\n",
       "      <td>bp cant access coding on pc it s not launching</td>\n",
       "      <td>[-0.013910068, -0.003852437, -0.0031259346, 0....</td>\n",
       "      <td>Printer Issues</td>\n",
       "    </tr>\n",
       "    <tr>\n",
       "      <th>39601</th>\n",
       "      <td>INC1333248</td>\n",
       "      <td>please review bps access</td>\n",
       "      <td>Phone</td>\n",
       "      <td>Access Request</td>\n",
       "      <td>9</td>\n",
       "      <td>please review bps access</td>\n",
       "      <td>[-0.09269019, -0.02601897, -0.026966868, 0.027...</td>\n",
       "      <td>Printer Issues</td>\n",
       "    </tr>\n",
       "    <tr>\n",
       "      <th>153138</th>\n",
       "      <td>INC0140987</td>\n",
       "      <td>bp cant access dragon on pc cnmboam3821780, er...</td>\n",
       "      <td>Phone</td>\n",
       "      <td>Access Request</td>\n",
       "      <td>9</td>\n",
       "      <td>bp cant access dragon on pc error message inva...</td>\n",
       "      <td>[0.0015341126, -0.03102137, -0.002042006, 0.02...</td>\n",
       "      <td>Printer Issues</td>\n",
       "    </tr>\n",
       "    <tr>\n",
       "      <th>52908</th>\n",
       "      <td>INC5616723</td>\n",
       "      <td>no access to l&amp;d lead inpatient</td>\n",
       "      <td>Phone</td>\n",
       "      <td>Access Request</td>\n",
       "      <td>9</td>\n",
       "      <td>no access to l d lead inpatient</td>\n",
       "      <td>[-0.034198254, 0.047217555, -0.0023042865, -0....</td>\n",
       "      <td>Printer Issues</td>\n",
       "    </tr>\n",
       "    <tr>\n",
       "      <th>236616</th>\n",
       "      <td>INC1368720</td>\n",
       "      <td>kphc access needs to be modified for nuid x00...</td>\n",
       "      <td>Phone</td>\n",
       "      <td>Access Request</td>\n",
       "      <td>9</td>\n",
       "      <td>kphc access needs to be modified for nuid ebon...</td>\n",
       "      <td>[-0.013209904, -0.033640254, -0.0016273648, 0....</td>\n",
       "      <td>Printer Issues</td>\n",
       "    </tr>\n",
       "  </tbody>\n",
       "</table>\n",
       "<p>10000 rows × 8 columns</p>\n",
       "</div>"
      ],
      "text/plain": [
       "       Incident_ID                                            Summary  \\\n",
       "83671   INC2733418  kphc pc - 4 messages appeared today 1/15/19 wi...   \n",
       "159641  INC4674911  afl/kphc: please unblock user (jennifer rousch...   \n",
       "122614  INC4507611                      duplicate accession nbm (jst)   \n",
       "28806   INC1986402  sch / kphc inbasket - deployment messages appe...   \n",
       "160277  INC5151591  afl/kphc: please create the following pgp per ...   \n",
       "...            ...                                                ...   \n",
       "153149  INC0562491  bp cant access 3m coding on pc cnsfoam3943234,...   \n",
       "39601   INC1333248                           please review bps access   \n",
       "153138  INC0140987  bp cant access dragon on pc cnmboam3821780, er...   \n",
       "52908   INC5616723                    no access to l&d lead inpatient   \n",
       "236616  INC1368720   kphc access needs to be modified for nuid x00...   \n",
       "\n",
       "         ContactType                          label  label_num  \\\n",
       "83671          Phone  Healthcare Application Issues          0   \n",
       "159641         Phone  Healthcare Application Issues          0   \n",
       "122614  Direct Input  Healthcare Application Issues          0   \n",
       "28806          Phone  Healthcare Application Issues          0   \n",
       "160277         Email  Healthcare Application Issues          0   \n",
       "...              ...                            ...        ...   \n",
       "153149         Phone                 Access Request          9   \n",
       "39601          Phone                 Access Request          9   \n",
       "153138         Phone                 Access Request          9   \n",
       "52908          Phone                 Access Request          9   \n",
       "236616         Phone                 Access Request          9   \n",
       "\n",
       "                                              cleaned_txt  \\\n",
       "83671   kphc pc messages appeared today with past date...   \n",
       "159641       afl kphc please unblock user jennifer rousch   \n",
       "122614                        duplicate accession nbm jst   \n",
       "28806   sch kphc inbasket deployment messages appearin...   \n",
       "160277  afl kphc please create the following pgp per a...   \n",
       "...                                                   ...   \n",
       "153149     bp cant access coding on pc it s not launching   \n",
       "39601                            please review bps access   \n",
       "153138  bp cant access dragon on pc error message inva...   \n",
       "52908                     no access to l d lead inpatient   \n",
       "236616  kphc access needs to be modified for nuid ebon...   \n",
       "\n",
       "                                           preprocess_txt predicted_labels  \n",
       "83671   [0.0023100306, 0.0020563602, -0.033805262, 0.0...    Access Issues  \n",
       "159641  [-0.028580325, -0.034724783, -0.0048503876, 0....    Access Issues  \n",
       "122614  [0.0014920966, 0.05120204, 0.009963634, 0.0480...    Access Issues  \n",
       "28806   [0.015064738, 0.022793, -0.0089196125, 0.03076...     Chart Issues  \n",
       "160277  [0.0064416626, -0.010304711, 0.0069559594, 0.0...    Access Issues  \n",
       "...                                                   ...              ...  \n",
       "153149  [-0.013910068, -0.003852437, -0.0031259346, 0....   Printer Issues  \n",
       "39601   [-0.09269019, -0.02601897, -0.026966868, 0.027...   Printer Issues  \n",
       "153138  [0.0015341126, -0.03102137, -0.002042006, 0.02...   Printer Issues  \n",
       "52908   [-0.034198254, 0.047217555, -0.0023042865, -0....   Printer Issues  \n",
       "236616  [-0.013209904, -0.033640254, -0.0016273648, 0....   Printer Issues  \n",
       "\n",
       "[10000 rows x 8 columns]"
      ]
     },
     "execution_count": 227,
     "metadata": {},
     "output_type": "execute_result"
    }
   ],
   "source": [
    "df_balanced['predicted_labels'] = [selected_categories[np.argmax(row)] for row in pred]\n",
    "#df_balanced.to_csv(\"output_test_lstm.csv\")\n",
    "df_balanced"
   ]
  },
  {
   "cell_type": "code",
   "execution_count": 255,
   "id": "b4bdb9e9-7b66-4390-a26e-0a74fdc9b3a2",
   "metadata": {},
   "outputs": [
    {
     "data": {
      "text/plain": [
       "Text(69.0, 0.5, 'Truth')"
      ]
     },
     "execution_count": 255,
     "metadata": {},
     "output_type": "execute_result"
    },
    {
     "data": {
      "image/png": "[encoded data removed]",
      "text/plain": [
       "<Figure size 720x504 with 2 Axes>"
      ]
     },
     "metadata": {
      "needs_background": "light"
     },
     "output_type": "display_data"
    }
   ],
   "source": [
    "#finally print the confusion matrix for the best model (GradientBoostingClassifier)\n",
    "\n",
    "from sklearn.metrics import confusion_matrix\n",
    "cm = confusion_matrix(y_actual, y_pred_classes)\n",
    "cm\n",
    "\n",
    "\n",
    "from matplotlib import pyplot as plt\n",
    "import seaborn as sn\n",
    "plt.figure(figsize = (10,7))\n",
    "sn.heatmap(cm, annot=True, fmt='d')\n",
    "plt.xlabel('Prediction')\n",
    "plt.ylabel('Truth')"
   ]
  },
  {
   "cell_type": "code",
   "execution_count": 103,
   "id": "6d203f01-6352-4827-b87d-fd90565c835f",
   "metadata": {},
   "outputs": [
    {
     "name": "stdout",
     "output_type": "stream",
     "text": [
      "63/63 [==============================] - 15s 238ms/step\n",
      "                               precision    recall  f1-score   support\n",
      "\n",
      "                Access Issues       0.00      0.00      0.00         0\n",
      "               Access Request       0.00      0.00      0.00         0\n",
      "                 Chart Issues       0.00      0.00      0.00         0\n",
      "              Coverage Issues       0.00      0.00      0.00         0\n",
      "Healthcare Application Issues       0.53      0.12      0.20      1000\n",
      "           Information Issues       0.00      0.00      0.00         0\n",
      "                 Login Issues       0.00      0.00      0.00         0\n",
      "                 Order Issues       0.00      0.00      0.00         0\n",
      "            Outpatient Issues       0.00      0.00      0.00         0\n",
      "               Printer Issues       0.51      0.10      0.17      1000\n",
      "\n",
      "                     accuracy                           0.12      2000\n",
      "                    macro avg       0.10      0.02      0.04      2000\n",
      "                 weighted avg       0.52      0.12      0.19      2000\n",
      "\n"
     ]
    },
    {
     "name": "stderr",
     "output_type": "stream",
     "text": [
      "C:\\Users\\NitinKumar\\anaconda3\\lib\\site-packages\\sklearn\\metrics\\_classification.py:1248: UndefinedMetricWarning: Recall and F-score are ill-defined and being set to 0.0 in labels with no true samples. Use `zero_division` parameter to control this behavior.\n",
      "  _warn_prf(average, modifier, msg_start, len(result))\n",
      "C:\\Users\\NitinKumar\\anaconda3\\lib\\site-packages\\sklearn\\metrics\\_classification.py:1248: UndefinedMetricWarning: Recall and F-score are ill-defined and being set to 0.0 in labels with no true samples. Use `zero_division` parameter to control this behavior.\n",
      "  _warn_prf(average, modifier, msg_start, len(result))\n",
      "C:\\Users\\NitinKumar\\anaconda3\\lib\\site-packages\\sklearn\\metrics\\_classification.py:1248: UndefinedMetricWarning: Recall and F-score are ill-defined and being set to 0.0 in labels with no true samples. Use `zero_division` parameter to control this behavior.\n",
      "  _warn_prf(average, modifier, msg_start, len(result))\n"
     ]
    }
   ],
   "source": [
    "from sklearn.metrics import classification_report\n",
    "# evaluate_testset = model.evaluate(X_test, Y_test)\n",
    "\n",
    "y_pred = model.predict(X_test)\n",
    "\n",
    "        \n",
    "\n",
    "y_actual = []\n",
    "\n",
    "y_pred_classes = []\n",
    "\n",
    "y_pred_prob = []\n",
    "\n",
    "for row in range(len(y_pred)):\n",
    "    y_actual.append(Y_classes[np.argmax(Y[row])])\n",
    "    y_pred_classes.append(Y_classes[np.argmax(y_pred[row])])\n",
    "    y_pred_prob.append(np.max(y_pred[row]))\n",
    "\n",
    "        \n",
    "\n",
    "# f1score = f1_score(y_actual, y_pred_classes, average='weighted', zero_division=0)\n",
    "\n",
    "# precisionscore = precision_score(y_actual, y_pred_classes, average='weighted', zero_division=0)\n",
    "# recallscore = recall_score(y_actual, y_pred_classes, average='weighted', zero_division=0)\n",
    "\n",
    "        \n",
    "\n",
    "print(classification_report(y_actual, y_pred_classes))"
   ]
  },
  {
   "cell_type": "code",
   "execution_count": 1,
   "id": "26431b39-2afa-4e06-af88-e411e246c9d9",
   "metadata": {},
   "outputs": [
    {
     "ename": "NameError",
     "evalue": "name 'model' is not defined",
     "output_type": "error",
     "traceback": [
      "\u001b[1;31m---------------------------------------------------------------------------\u001b[0m",
      "\u001b[1;31mNameError\u001b[0m                                 Traceback (most recent call last)",
      "\u001b[1;32mC:\\Users\\NITINK~1\\AppData\\Local\\Temp/ipykernel_17248/3627169018.py\u001b[0m in \u001b[0;36m<module>\u001b[1;34m\u001b[0m\n\u001b[1;32m----> 1\u001b[1;33m \u001b[0mevaluate_testset\u001b[0m \u001b[1;33m=\u001b[0m \u001b[0mmodel\u001b[0m\u001b[1;33m.\u001b[0m\u001b[0mevaluate\u001b[0m\u001b[1;33m(\u001b[0m\u001b[0mX_test\u001b[0m\u001b[1;33m,\u001b[0m \u001b[0mY_test\u001b[0m\u001b[1;33m)\u001b[0m\u001b[1;33m\u001b[0m\u001b[1;33m\u001b[0m\u001b[0m\n\u001b[0m",
      "\u001b[1;31mNameError\u001b[0m: name 'model' is not defined"
     ]
    }
   ],
   "source": [
    "evaluate_testset = model.evaluate(X_test, Y_test)"
   ]
  },
  {
   "cell_type": "code",
   "execution_count": 250,
   "id": "527a0e84-bc15-44bb-a126-a61573169925",
   "metadata": {},
   "outputs": [
    {
     "data": {
      "text/html": [
       "<div>\n",
       "<style scoped>\n",
       "    .dataframe tbody tr th:only-of-type {\n",
       "        vertical-align: middle;\n",
       "    }\n",
       "\n",
       "    .dataframe tbody tr th {\n",
       "        vertical-align: top;\n",
       "    }\n",
       "\n",
       "    .dataframe thead th {\n",
       "        text-align: right;\n",
       "    }\n",
       "</style>\n",
       "<table border=\"1\" class=\"dataframe\">\n",
       "  <thead>\n",
       "    <tr style=\"text-align: right;\">\n",
       "      <th></th>\n",
       "      <th>Incident_ID</th>\n",
       "      <th>Summary</th>\n",
       "      <th>ContactType</th>\n",
       "      <th>cleaned_txt</th>\n",
       "      <th>preprocess_txt</th>\n",
       "      <th>Actual_Label</th>\n",
       "      <th>Predicted_Label</th>\n",
       "    </tr>\n",
       "  </thead>\n",
       "  <tbody>\n",
       "    <tr>\n",
       "      <th>83671</th>\n",
       "      <td>INC2733418</td>\n",
       "      <td>kphc pc - 4 messages appeared today 1/15/19 wi...</td>\n",
       "      <td>Phone</td>\n",
       "      <td>kphc pc messages appeared today with past date...</td>\n",
       "      <td>[0.0023100306, 0.0020563602, -0.033805262, 0.0...</td>\n",
       "      <td>Healthcare Application Issues</td>\n",
       "      <td>Healthcare Application Issues</td>\n",
       "    </tr>\n",
       "    <tr>\n",
       "      <th>159641</th>\n",
       "      <td>INC4674911</td>\n",
       "      <td>afl/kphc: please unblock user (jennifer rousch...</td>\n",
       "      <td>Phone</td>\n",
       "      <td>afl kphc please unblock user jennifer rousch</td>\n",
       "      <td>[-0.028580325, -0.034724783, -0.0048503876, 0....</td>\n",
       "      <td>Healthcare Application Issues</td>\n",
       "      <td>Healthcare Application Issues</td>\n",
       "    </tr>\n",
       "    <tr>\n",
       "      <th>122614</th>\n",
       "      <td>INC4507611</td>\n",
       "      <td>duplicate accession nbm (jst)</td>\n",
       "      <td>Direct Input</td>\n",
       "      <td>duplicate accession nbm jst</td>\n",
       "      <td>[0.0014920966, 0.05120204, 0.009963634, 0.0480...</td>\n",
       "      <td>Healthcare Application Issues</td>\n",
       "      <td>Healthcare Application Issues</td>\n",
       "    </tr>\n",
       "    <tr>\n",
       "      <th>28806</th>\n",
       "      <td>INC1986402</td>\n",
       "      <td>sch / kphc inbasket - deployment messages appe...</td>\n",
       "      <td>Phone</td>\n",
       "      <td>sch kphc inbasket deployment messages appearin...</td>\n",
       "      <td>[0.015064738, 0.022793, -0.0089196125, 0.03076...</td>\n",
       "      <td>Healthcare Application Issues</td>\n",
       "      <td>Information Issues</td>\n",
       "    </tr>\n",
       "    <tr>\n",
       "      <th>160277</th>\n",
       "      <td>INC5151591</td>\n",
       "      <td>afl/kphc: please create the following pgp per ...</td>\n",
       "      <td>Email</td>\n",
       "      <td>afl kphc please create the following pgp per a...</td>\n",
       "      <td>[0.0064416626, -0.010304711, 0.0069559594, 0.0...</td>\n",
       "      <td>Healthcare Application Issues</td>\n",
       "      <td>Healthcare Application Issues</td>\n",
       "    </tr>\n",
       "    <tr>\n",
       "      <th>...</th>\n",
       "      <td>...</td>\n",
       "      <td>...</td>\n",
       "      <td>...</td>\n",
       "      <td>...</td>\n",
       "      <td>...</td>\n",
       "      <td>...</td>\n",
       "      <td>...</td>\n",
       "    </tr>\n",
       "    <tr>\n",
       "      <th>153149</th>\n",
       "      <td>INC0562491</td>\n",
       "      <td>bp cant access 3m coding on pc cnsfoam3943234,...</td>\n",
       "      <td>Phone</td>\n",
       "      <td>bp cant access coding on pc it s not launching</td>\n",
       "      <td>[-0.013910068, -0.003852437, -0.0031259346, 0....</td>\n",
       "      <td>Access Request</td>\n",
       "      <td>Access Request</td>\n",
       "    </tr>\n",
       "    <tr>\n",
       "      <th>39601</th>\n",
       "      <td>INC1333248</td>\n",
       "      <td>please review bps access</td>\n",
       "      <td>Phone</td>\n",
       "      <td>please review bps access</td>\n",
       "      <td>[-0.09269019, -0.02601897, -0.026966868, 0.027...</td>\n",
       "      <td>Access Request</td>\n",
       "      <td>Access Request</td>\n",
       "    </tr>\n",
       "    <tr>\n",
       "      <th>153138</th>\n",
       "      <td>INC0140987</td>\n",
       "      <td>bp cant access dragon on pc cnmboam3821780, er...</td>\n",
       "      <td>Phone</td>\n",
       "      <td>bp cant access dragon on pc error message inva...</td>\n",
       "      <td>[0.0015341126, -0.03102137, -0.002042006, 0.02...</td>\n",
       "      <td>Access Request</td>\n",
       "      <td>Access Request</td>\n",
       "    </tr>\n",
       "    <tr>\n",
       "      <th>52908</th>\n",
       "      <td>INC5616723</td>\n",
       "      <td>no access to l&amp;d lead inpatient</td>\n",
       "      <td>Phone</td>\n",
       "      <td>no access to l d lead inpatient</td>\n",
       "      <td>[-0.034198254, 0.047217555, -0.0023042865, -0....</td>\n",
       "      <td>Access Request</td>\n",
       "      <td>Access Request</td>\n",
       "    </tr>\n",
       "    <tr>\n",
       "      <th>236616</th>\n",
       "      <td>INC1368720</td>\n",
       "      <td>kphc access needs to be modified for nuid x00...</td>\n",
       "      <td>Phone</td>\n",
       "      <td>kphc access needs to be modified for nuid ebon...</td>\n",
       "      <td>[-0.013209904, -0.033640254, -0.0016273648, 0....</td>\n",
       "      <td>Access Request</td>\n",
       "      <td>Access Request</td>\n",
       "    </tr>\n",
       "  </tbody>\n",
       "</table>\n",
       "<p>10000 rows × 7 columns</p>\n",
       "</div>"
      ],
      "text/plain": [
       "       Incident_ID                                            Summary  \\\n",
       "83671   INC2733418  kphc pc - 4 messages appeared today 1/15/19 wi...   \n",
       "159641  INC4674911  afl/kphc: please unblock user (jennifer rousch...   \n",
       "122614  INC4507611                      duplicate accession nbm (jst)   \n",
       "28806   INC1986402  sch / kphc inbasket - deployment messages appe...   \n",
       "160277  INC5151591  afl/kphc: please create the following pgp per ...   \n",
       "...            ...                                                ...   \n",
       "153149  INC0562491  bp cant access 3m coding on pc cnsfoam3943234,...   \n",
       "39601   INC1333248                           please review bps access   \n",
       "153138  INC0140987  bp cant access dragon on pc cnmboam3821780, er...   \n",
       "52908   INC5616723                    no access to l&d lead inpatient   \n",
       "236616  INC1368720   kphc access needs to be modified for nuid x00...   \n",
       "\n",
       "         ContactType                                        cleaned_txt  \\\n",
       "83671          Phone  kphc pc messages appeared today with past date...   \n",
       "159641         Phone       afl kphc please unblock user jennifer rousch   \n",
       "122614  Direct Input                        duplicate accession nbm jst   \n",
       "28806          Phone  sch kphc inbasket deployment messages appearin...   \n",
       "160277         Email  afl kphc please create the following pgp per a...   \n",
       "...              ...                                                ...   \n",
       "153149         Phone     bp cant access coding on pc it s not launching   \n",
       "39601          Phone                           please review bps access   \n",
       "153138         Phone  bp cant access dragon on pc error message inva...   \n",
       "52908          Phone                    no access to l d lead inpatient   \n",
       "236616         Phone  kphc access needs to be modified for nuid ebon...   \n",
       "\n",
       "                                           preprocess_txt  \\\n",
       "83671   [0.0023100306, 0.0020563602, -0.033805262, 0.0...   \n",
       "159641  [-0.028580325, -0.034724783, -0.0048503876, 0....   \n",
       "122614  [0.0014920966, 0.05120204, 0.009963634, 0.0480...   \n",
       "28806   [0.015064738, 0.022793, -0.0089196125, 0.03076...   \n",
       "160277  [0.0064416626, -0.010304711, 0.0069559594, 0.0...   \n",
       "...                                                   ...   \n",
       "153149  [-0.013910068, -0.003852437, -0.0031259346, 0....   \n",
       "39601   [-0.09269019, -0.02601897, -0.026966868, 0.027...   \n",
       "153138  [0.0015341126, -0.03102137, -0.002042006, 0.02...   \n",
       "52908   [-0.034198254, 0.047217555, -0.0023042865, -0....   \n",
       "236616  [-0.013209904, -0.033640254, -0.0016273648, 0....   \n",
       "\n",
       "                         Actual_Label                Predicted_Label  \n",
       "83671   Healthcare Application Issues  Healthcare Application Issues  \n",
       "159641  Healthcare Application Issues  Healthcare Application Issues  \n",
       "122614  Healthcare Application Issues  Healthcare Application Issues  \n",
       "28806   Healthcare Application Issues             Information Issues  \n",
       "160277  Healthcare Application Issues  Healthcare Application Issues  \n",
       "...                               ...                            ...  \n",
       "153149                 Access Request                 Access Request  \n",
       "39601                  Access Request                 Access Request  \n",
       "153138                 Access Request                 Access Request  \n",
       "52908                  Access Request                 Access Request  \n",
       "236616                 Access Request                 Access Request  \n",
       "\n",
       "[10000 rows x 7 columns]"
      ]
     },
     "execution_count": 250,
     "metadata": {},
     "output_type": "execute_result"
    }
   ],
   "source": [
    "df_balanced['Actual_Label'] = y_actual\n",
    "df_balanced['Predicted_Label'] = y_pred_classes\n",
    "df_balanced.to_csv(\"output_test.csv\")\n",
    "df_balanced"
   ]
  },
  {
   "cell_type": "code",
   "execution_count": 277,
   "id": "cce8b273",
   "metadata": {},
   "outputs": [
    {
     "name": "stdout",
     "output_type": "stream",
     "text": [
      "Gradient Boosting Classifier Score :  0.786 \n",
      "KNearestNeighours Score :  0.7165 \n",
      "Random Forest Score :  0.7685\n"
     ]
    }
   ],
   "source": [
    "print(\"Gradient Boosting Classifier Score : \", model.score(X_test_2d,y_test), \"\\nKNearestNeighours Score : \", knn_model.score(X_test_2d,y_test),\"\\nRandom Forest Score : \", rfc_model.score(X_test_2d,y_test))"
   ]
  },
  {
   "cell_type": "code",
   "execution_count": 290,
   "id": "57311726",
   "metadata": {},
   "outputs": [],
   "source": [
    "X_2d = np.stack(X)"
   ]
  },
  {
   "cell_type": "code",
   "execution_count": 311,
   "id": "1849181b",
   "metadata": {},
   "outputs": [],
   "source": [
    "df_balanced['predicted_label_num'] = model.predict(X_2d)"
   ]
  },
  {
   "cell_type": "code",
   "execution_count": 313,
   "id": "47cc0a65",
   "metadata": {},
   "outputs": [],
   "source": [
    "df_balanced['predicted_label'] = pd.Categorical.from_codes(df_balanced[\"predicted_label_num\"], categories=category_mapping.categories)\n",
    "df_balanced.to_csv(\"output_test.csv\")"
   ]
  },
  {
   "cell_type": "code",
   "execution_count": 194,
   "id": "38fdbe06",
   "metadata": {},
   "outputs": [
    {
     "name": "stdout",
     "output_type": "stream",
     "text": [
      "              precision    recall  f1-score   support\n",
      "\n",
      "           0       0.70      0.68      0.69       200\n",
      "           1       0.96      0.93      0.94       200\n",
      "           2       0.67      0.68      0.67       200\n",
      "           3       0.91      0.84      0.88       200\n",
      "           4       0.68      0.64      0.66       200\n",
      "           5       0.93      0.94      0.93       200\n",
      "           6       0.58      0.66      0.62       200\n",
      "           7       0.82      0.84      0.83       200\n",
      "           8       0.99      0.94      0.97       200\n",
      "           9       0.69      0.73      0.71       200\n",
      "\n",
      "    accuracy                           0.79      2000\n",
      "   macro avg       0.79      0.79      0.79      2000\n",
      "weighted avg       0.79      0.79      0.79      2000\n",
      "\n"
     ]
    }
   ],
   "source": [
    "y_pred = model.predict(X_test_2d)\n",
    "print(classification_report(y_test,y_pred))"
   ]
  },
  {
   "cell_type": "code",
   "execution_count": 294,
   "id": "83f7628c",
   "metadata": {},
   "outputs": [
    {
     "data": {
      "text/plain": [
       "Text(69.0, 0.5, 'Truth')"
      ]
     },
     "execution_count": 294,
     "metadata": {},
     "output_type": "execute_result"
    },
    {
     "data": {
      "image/png": "[encoded data removed]",
      "text/plain": [
       "<Figure size 720x504 with 2 Axes>"
      ]
     },
     "metadata": {
      "needs_background": "light"
     },
     "output_type": "display_data"
    }
   ],
   "source": [
    "#finally print the confusion matrix for the best model (GradientBoostingClassifier)\n",
    "\n",
    "from sklearn.metrics import confusion_matrix\n",
    "cm = confusion_matrix(y_test, y_pred)\n",
    "cm\n",
    "\n",
    "\n",
    "from matplotlib import pyplot as plt\n",
    "import seaborn as sn\n",
    "plt.figure(figsize = (10,7))\n",
    "sn.heatmap(cm, annot=True, fmt='d')\n",
    "plt.xlabel('Prediction')\n",
    "plt.ylabel('Truth')"
   ]
  },
  {
   "cell_type": "code",
   "execution_count": 298,
   "id": "83e4c496",
   "metadata": {},
   "outputs": [],
   "source": [
    "df_balanced.drop(['clean', 'preprocess'], axis=1, inplace=True)\n"
   ]
  },
  {
   "cell_type": "markdown",
   "id": "24cbf394-bc4f-4dfd-9ad6-dce9f1e08627",
   "metadata": {},
   "source": [
    "Data Ingestion from Storage Index"
   ]
  },
  {
   "cell_type": "code",
   "execution_count": 9,
   "id": "b330f236-1b2a-4128-986e-fdc362072805",
   "metadata": {},
   "outputs": [],
   "source": [
    "import pandas as pd\n",
    "import numpy as np\n",
    "from elasticsearch import Elasticsearch\n",
    "from elasticsearch import helpers\n",
    "from datetime import datetime\n",
    "import re\n",
    "import collections"
   ]
  },
  {
   "cell_type": "code",
   "execution_count": 18,
   "id": "d9ad4cfe-31bf-43e0-9a5b-1eb8c1908aeb",
   "metadata": {},
   "outputs": [
    {
     "name": "stderr",
     "output_type": "stream",
     "text": [
      "C:\\Users\\G073080a\\AppData\\Local\\Temp\\18\\ipykernel_10216\\1978361561.py:2: DeprecationWarning: The 'timeout' parameter is deprecated in favor of 'request_timeout'\n",
      "  es =  Elasticsearch(hosts=['https://ops-analytics.appl.kp.org:9200'],timeout=600, http_auth=(\"G073080\",\"Rakesh@nktyagi423\") )\n",
      "C:\\Users\\G073080a\\AppData\\Local\\Temp\\18\\ipykernel_10216\\1978361561.py:2: DeprecationWarning: The 'http_auth' parameter is deprecated. Use 'basic_auth' or 'bearer_auth' parameters instead\n",
      "  es =  Elasticsearch(hosts=['https://ops-analytics.appl.kp.org:9200'],timeout=600, http_auth=(\"G073080\",\"Rakesh@nktyagi423\") )\n"
     ]
    },
    {
     "ename": "ConnectionError",
     "evalue": "Connection error caused by: ConnectionError(Connection error caused by: NewConnectionError(<elastic_transport._node._urllib3_chain_certs.HTTPSConnection object at 0x000001E8BA7448E0>: Failed to establish a new connection: [WinError 10061] No connection could be made because the target machine actively refused it))",
     "output_type": "error",
     "traceback": [
      "\u001b[1;31m---------------------------------------------------------------------------\u001b[0m",
      "\u001b[1;31mConnectionError\u001b[0m                           Traceback (most recent call last)",
      "Cell \u001b[1;32mIn[18], line 37\u001b[0m\n\u001b[0;32m     19\u001b[0m \u001b[38;5;66;03m# data1 = helpers.scan(\u001b[39;00m\n\u001b[0;32m     20\u001b[0m \u001b[38;5;66;03m#     es,\u001b[39;00m\n\u001b[0;32m     21\u001b[0m \u001b[38;5;66;03m#     index=\"storage-idw-san-perf*\",\u001b[39;00m\n\u001b[1;32m   (...)\u001b[0m\n\u001b[0;32m     34\u001b[0m \u001b[38;5;66;03m#   },\u001b[39;00m\n\u001b[0;32m     35\u001b[0m \u001b[38;5;66;03m#   }  )\u001b[39;00m\n\u001b[0;32m     36\u001b[0m \u001b[38;5;28;01mfrom\u001b[39;00m \u001b[38;5;21;01mpandas\u001b[39;00m \u001b[38;5;28;01mimport\u001b[39;00m json_normalize\n\u001b[1;32m---> 37\u001b[0m data \u001b[38;5;241m=\u001b[39m \u001b[38;5;28;43mlist\u001b[39;49m\u001b[43m(\u001b[49m\u001b[43mdata\u001b[49m\u001b[43m)\u001b[49m\n\u001b[0;32m     38\u001b[0m Incidents\u001b[38;5;241m=\u001b[39mjson_normalize(data)\n\u001b[0;32m     40\u001b[0m \u001b[38;5;66;03m# ## Removing _source\u001b[39;00m\n\u001b[0;32m     41\u001b[0m \u001b[38;5;66;03m# Incidents.columns = [x.strip().replace('_source.', '') for x in Incidents.columns]\u001b[39;00m\n\u001b[0;32m     42\u001b[0m \u001b[38;5;66;03m# ## Dropping elastic document related columns. These columns are added by elastic and not part of the actual data\u001b[39;00m\n\u001b[0;32m     43\u001b[0m \u001b[38;5;66;03m# Incidents.drop(['_id','_index','_score','_type','@timestamp','@version'], axis=1, inplace=True)\u001b[39;00m\n",
      "File \u001b[1;32mc:\\Users\\G073080a\\Documents\\ITCE_Storage\\itce\\lib\\site-packages\\elasticsearch\\helpers\\actions.py:710\u001b[0m, in \u001b[0;36mscan\u001b[1;34m(client, query, scroll, raise_on_error, preserve_order, size, request_timeout, clear_scroll, scroll_kwargs, **kwargs)\u001b[0m\n\u001b[0;32m    708\u001b[0m     search_kwargs[\u001b[38;5;124m\"\u001b[39m\u001b[38;5;124mscroll\u001b[39m\u001b[38;5;124m\"\u001b[39m] \u001b[38;5;241m=\u001b[39m scroll\n\u001b[0;32m    709\u001b[0m     search_kwargs[\u001b[38;5;124m\"\u001b[39m\u001b[38;5;124msize\u001b[39m\u001b[38;5;124m\"\u001b[39m] \u001b[38;5;241m=\u001b[39m size\n\u001b[1;32m--> 710\u001b[0m     resp \u001b[38;5;241m=\u001b[39m client\u001b[38;5;241m.\u001b[39msearch(\u001b[38;5;241m*\u001b[39m\u001b[38;5;241m*\u001b[39msearch_kwargs)\n\u001b[0;32m    712\u001b[0m \u001b[38;5;66;03m# Try the old deprecated way if we fail immediately on parameters.\u001b[39;00m\n\u001b[0;32m    713\u001b[0m \u001b[38;5;28;01mexcept\u001b[39;00m \u001b[38;5;167;01mTypeError\u001b[39;00m:\n",
      "File \u001b[1;32mc:\\Users\\G073080a\\Documents\\ITCE_Storage\\itce\\lib\\site-packages\\elasticsearch\\_sync\\client\\utils.py:446\u001b[0m, in \u001b[0;36m_rewrite_parameters.<locals>.wrapper.<locals>.wrapped\u001b[1;34m(*args, **kwargs)\u001b[0m\n\u001b[0;32m    443\u001b[0m         \u001b[38;5;28;01mexcept\u001b[39;00m \u001b[38;5;167;01mKeyError\u001b[39;00m:\n\u001b[0;32m    444\u001b[0m             \u001b[38;5;28;01mpass\u001b[39;00m\n\u001b[1;32m--> 446\u001b[0m \u001b[38;5;28;01mreturn\u001b[39;00m api(\u001b[38;5;241m*\u001b[39margs, \u001b[38;5;241m*\u001b[39m\u001b[38;5;241m*\u001b[39mkwargs)\n",
      "File \u001b[1;32mc:\\Users\\G073080a\\Documents\\ITCE_Storage\\itce\\lib\\site-packages\\elasticsearch\\_sync\\client\\__init__.py:3836\u001b[0m, in \u001b[0;36mElasticsearch.search\u001b[1;34m(self, index, aggregations, aggs, allow_no_indices, allow_partial_search_results, analyze_wildcard, analyzer, batched_reduce_size, ccs_minimize_roundtrips, collapse, default_operator, df, docvalue_fields, error_trace, expand_wildcards, explain, ext, fields, filter_path, from_, highlight, human, ignore_throttled, ignore_unavailable, indices_boost, knn, lenient, max_concurrent_shard_requests, min_compatible_shard_node, min_score, pit, post_filter, pre_filter_shard_size, preference, pretty, profile, q, query, rank, request_cache, rescore, rest_total_hits_as_int, routing, runtime_mappings, script_fields, scroll, search_after, search_type, seq_no_primary_term, size, slice, sort, source, source_excludes, source_includes, stats, stored_fields, suggest, suggest_field, suggest_mode, suggest_size, suggest_text, terminate_after, timeout, track_scores, track_total_hits, typed_keys, version, body)\u001b[0m\n\u001b[0;32m   3834\u001b[0m \u001b[38;5;28;01mif\u001b[39;00m __body \u001b[38;5;129;01mis\u001b[39;00m \u001b[38;5;129;01mnot\u001b[39;00m \u001b[38;5;28;01mNone\u001b[39;00m:\n\u001b[0;32m   3835\u001b[0m     __headers[\u001b[38;5;124m\"\u001b[39m\u001b[38;5;124mcontent-type\u001b[39m\u001b[38;5;124m\"\u001b[39m] \u001b[38;5;241m=\u001b[39m \u001b[38;5;124m\"\u001b[39m\u001b[38;5;124mapplication/json\u001b[39m\u001b[38;5;124m\"\u001b[39m\n\u001b[1;32m-> 3836\u001b[0m \u001b[38;5;28;01mreturn\u001b[39;00m \u001b[38;5;28;43mself\u001b[39;49m\u001b[38;5;241;43m.\u001b[39;49m\u001b[43mperform_request\u001b[49m\u001b[43m(\u001b[49m\u001b[43m  \u001b[49m\u001b[38;5;66;43;03m# type: ignore[return-value]\u001b[39;49;00m\n\u001b[0;32m   3837\u001b[0m \u001b[43m    \u001b[49m\u001b[38;5;124;43m\"\u001b[39;49m\u001b[38;5;124;43mPOST\u001b[39;49m\u001b[38;5;124;43m\"\u001b[39;49m\u001b[43m,\u001b[49m\u001b[43m \u001b[49m\u001b[43m__path\u001b[49m\u001b[43m,\u001b[49m\u001b[43m \u001b[49m\u001b[43mparams\u001b[49m\u001b[38;5;241;43m=\u001b[39;49m\u001b[43m__query\u001b[49m\u001b[43m,\u001b[49m\u001b[43m \u001b[49m\u001b[43mheaders\u001b[49m\u001b[38;5;241;43m=\u001b[39;49m\u001b[43m__headers\u001b[49m\u001b[43m,\u001b[49m\u001b[43m \u001b[49m\u001b[43mbody\u001b[49m\u001b[38;5;241;43m=\u001b[39;49m\u001b[43m__body\u001b[49m\n\u001b[0;32m   3838\u001b[0m \u001b[43m\u001b[49m\u001b[43m)\u001b[49m\n",
      "File \u001b[1;32mc:\\Users\\G073080a\\Documents\\ITCE_Storage\\itce\\lib\\site-packages\\elasticsearch\\_sync\\client\\_base.py:285\u001b[0m, in \u001b[0;36mBaseClient.perform_request\u001b[1;34m(self, method, path, params, headers, body)\u001b[0m\n\u001b[0;32m    282\u001b[0m \u001b[38;5;28;01melse\u001b[39;00m:\n\u001b[0;32m    283\u001b[0m     target \u001b[38;5;241m=\u001b[39m path\n\u001b[1;32m--> 285\u001b[0m meta, resp_body \u001b[38;5;241m=\u001b[39m \u001b[38;5;28;43mself\u001b[39;49m\u001b[38;5;241;43m.\u001b[39;49m\u001b[43mtransport\u001b[49m\u001b[38;5;241;43m.\u001b[39;49m\u001b[43mperform_request\u001b[49m\u001b[43m(\u001b[49m\n\u001b[0;32m    286\u001b[0m \u001b[43m    \u001b[49m\u001b[43mmethod\u001b[49m\u001b[43m,\u001b[49m\n\u001b[0;32m    287\u001b[0m \u001b[43m    \u001b[49m\u001b[43mtarget\u001b[49m\u001b[43m,\u001b[49m\n\u001b[0;32m    288\u001b[0m \u001b[43m    \u001b[49m\u001b[43mheaders\u001b[49m\u001b[38;5;241;43m=\u001b[39;49m\u001b[43mrequest_headers\u001b[49m\u001b[43m,\u001b[49m\n\u001b[0;32m    289\u001b[0m \u001b[43m    \u001b[49m\u001b[43mbody\u001b[49m\u001b[38;5;241;43m=\u001b[39;49m\u001b[43mbody\u001b[49m\u001b[43m,\u001b[49m\n\u001b[0;32m    290\u001b[0m \u001b[43m    \u001b[49m\u001b[43mrequest_timeout\u001b[49m\u001b[38;5;241;43m=\u001b[39;49m\u001b[38;5;28;43mself\u001b[39;49m\u001b[38;5;241;43m.\u001b[39;49m\u001b[43m_request_timeout\u001b[49m\u001b[43m,\u001b[49m\n\u001b[0;32m    291\u001b[0m \u001b[43m    \u001b[49m\u001b[43mmax_retries\u001b[49m\u001b[38;5;241;43m=\u001b[39;49m\u001b[38;5;28;43mself\u001b[39;49m\u001b[38;5;241;43m.\u001b[39;49m\u001b[43m_max_retries\u001b[49m\u001b[43m,\u001b[49m\n\u001b[0;32m    292\u001b[0m \u001b[43m    \u001b[49m\u001b[43mretry_on_status\u001b[49m\u001b[38;5;241;43m=\u001b[39;49m\u001b[38;5;28;43mself\u001b[39;49m\u001b[38;5;241;43m.\u001b[39;49m\u001b[43m_retry_on_status\u001b[49m\u001b[43m,\u001b[49m\n\u001b[0;32m    293\u001b[0m \u001b[43m    \u001b[49m\u001b[43mretry_on_timeout\u001b[49m\u001b[38;5;241;43m=\u001b[39;49m\u001b[38;5;28;43mself\u001b[39;49m\u001b[38;5;241;43m.\u001b[39;49m\u001b[43m_retry_on_timeout\u001b[49m\u001b[43m,\u001b[49m\n\u001b[0;32m    294\u001b[0m \u001b[43m    \u001b[49m\u001b[43mclient_meta\u001b[49m\u001b[38;5;241;43m=\u001b[39;49m\u001b[38;5;28;43mself\u001b[39;49m\u001b[38;5;241;43m.\u001b[39;49m\u001b[43m_client_meta\u001b[49m\u001b[43m,\u001b[49m\n\u001b[0;32m    295\u001b[0m \u001b[43m\u001b[49m\u001b[43m)\u001b[49m\n\u001b[0;32m    297\u001b[0m \u001b[38;5;66;03m# HEAD with a 404 is returned as a normal response\u001b[39;00m\n\u001b[0;32m    298\u001b[0m \u001b[38;5;66;03m# since this is used as an 'exists' functionality.\u001b[39;00m\n\u001b[0;32m    299\u001b[0m \u001b[38;5;28;01mif\u001b[39;00m \u001b[38;5;129;01mnot\u001b[39;00m (method \u001b[38;5;241m==\u001b[39m \u001b[38;5;124m\"\u001b[39m\u001b[38;5;124mHEAD\u001b[39m\u001b[38;5;124m\"\u001b[39m \u001b[38;5;129;01mand\u001b[39;00m meta\u001b[38;5;241m.\u001b[39mstatus \u001b[38;5;241m==\u001b[39m \u001b[38;5;241m404\u001b[39m) \u001b[38;5;129;01mand\u001b[39;00m (\n\u001b[0;32m    300\u001b[0m     \u001b[38;5;129;01mnot\u001b[39;00m \u001b[38;5;241m200\u001b[39m \u001b[38;5;241m<\u001b[39m\u001b[38;5;241m=\u001b[39m meta\u001b[38;5;241m.\u001b[39mstatus \u001b[38;5;241m<\u001b[39m \u001b[38;5;241m299\u001b[39m\n\u001b[0;32m    301\u001b[0m     \u001b[38;5;129;01mand\u001b[39;00m (\n\u001b[1;32m   (...)\u001b[0m\n\u001b[0;32m    305\u001b[0m     )\n\u001b[0;32m    306\u001b[0m ):\n",
      "File \u001b[1;32mc:\\Users\\G073080a\\Documents\\ITCE_Storage\\itce\\lib\\site-packages\\elastic_transport\\_transport.py:328\u001b[0m, in \u001b[0;36mTransport.perform_request\u001b[1;34m(self, method, target, body, headers, max_retries, retry_on_status, retry_on_timeout, request_timeout, client_meta)\u001b[0m\n\u001b[0;32m    326\u001b[0m start_time \u001b[38;5;241m=\u001b[39m time\u001b[38;5;241m.\u001b[39mtime()\n\u001b[0;32m    327\u001b[0m \u001b[38;5;28;01mtry\u001b[39;00m:\n\u001b[1;32m--> 328\u001b[0m     meta, raw_data \u001b[38;5;241m=\u001b[39m \u001b[43mnode\u001b[49m\u001b[38;5;241;43m.\u001b[39;49m\u001b[43mperform_request\u001b[49m\u001b[43m(\u001b[49m\n\u001b[0;32m    329\u001b[0m \u001b[43m        \u001b[49m\u001b[43mmethod\u001b[49m\u001b[43m,\u001b[49m\n\u001b[0;32m    330\u001b[0m \u001b[43m        \u001b[49m\u001b[43mtarget\u001b[49m\u001b[43m,\u001b[49m\n\u001b[0;32m    331\u001b[0m \u001b[43m        \u001b[49m\u001b[43mbody\u001b[49m\u001b[38;5;241;43m=\u001b[39;49m\u001b[43mrequest_body\u001b[49m\u001b[43m,\u001b[49m\n\u001b[0;32m    332\u001b[0m \u001b[43m        \u001b[49m\u001b[43mheaders\u001b[49m\u001b[38;5;241;43m=\u001b[39;49m\u001b[43mrequest_headers\u001b[49m\u001b[43m,\u001b[49m\n\u001b[0;32m    333\u001b[0m \u001b[43m        \u001b[49m\u001b[43mrequest_timeout\u001b[49m\u001b[38;5;241;43m=\u001b[39;49m\u001b[43mrequest_timeout\u001b[49m\u001b[43m,\u001b[49m\n\u001b[0;32m    334\u001b[0m \u001b[43m    \u001b[49m\u001b[43m)\u001b[49m\n\u001b[0;32m    335\u001b[0m     _logger\u001b[38;5;241m.\u001b[39minfo(\n\u001b[0;32m    336\u001b[0m         \u001b[38;5;124m\"\u001b[39m\u001b[38;5;132;01m%s\u001b[39;00m\u001b[38;5;124m \u001b[39m\u001b[38;5;132;01m%s\u001b[39;00m\u001b[38;5;132;01m%s\u001b[39;00m\u001b[38;5;124m [status:\u001b[39m\u001b[38;5;132;01m%s\u001b[39;00m\u001b[38;5;124m duration:\u001b[39m\u001b[38;5;132;01m%.3f\u001b[39;00m\u001b[38;5;124ms]\u001b[39m\u001b[38;5;124m\"\u001b[39m\n\u001b[0;32m    337\u001b[0m         \u001b[38;5;241m%\u001b[39m (\n\u001b[1;32m   (...)\u001b[0m\n\u001b[0;32m    343\u001b[0m         )\n\u001b[0;32m    344\u001b[0m     )\n\u001b[0;32m    346\u001b[0m     \u001b[38;5;28;01mif\u001b[39;00m method \u001b[38;5;241m!=\u001b[39m \u001b[38;5;124m\"\u001b[39m\u001b[38;5;124mHEAD\u001b[39m\u001b[38;5;124m\"\u001b[39m:\n",
      "File \u001b[1;32mc:\\Users\\G073080a\\Documents\\ITCE_Storage\\itce\\lib\\site-packages\\elastic_transport\\_node\\_http_urllib3.py:202\u001b[0m, in \u001b[0;36mUrllib3HttpNode.perform_request\u001b[1;34m(self, method, target, body, headers, request_timeout)\u001b[0m\n\u001b[0;32m    194\u001b[0m         err \u001b[38;5;241m=\u001b[39m \u001b[38;5;167;01mConnectionError\u001b[39;00m(\u001b[38;5;28mstr\u001b[39m(e), errors\u001b[38;5;241m=\u001b[39m(e,))\n\u001b[0;32m    195\u001b[0m     \u001b[38;5;28mself\u001b[39m\u001b[38;5;241m.\u001b[39m_log_request(\n\u001b[0;32m    196\u001b[0m         method\u001b[38;5;241m=\u001b[39mmethod,\n\u001b[0;32m    197\u001b[0m         target\u001b[38;5;241m=\u001b[39mtarget,\n\u001b[1;32m   (...)\u001b[0m\n\u001b[0;32m    200\u001b[0m         exception\u001b[38;5;241m=\u001b[39merr,\n\u001b[0;32m    201\u001b[0m     )\n\u001b[1;32m--> 202\u001b[0m     \u001b[38;5;28;01mraise\u001b[39;00m err \u001b[38;5;28;01mfrom\u001b[39;00m \u001b[38;5;28;01mNone\u001b[39;00m\n\u001b[0;32m    204\u001b[0m meta \u001b[38;5;241m=\u001b[39m ApiResponseMeta(\n\u001b[0;32m    205\u001b[0m     node\u001b[38;5;241m=\u001b[39m\u001b[38;5;28mself\u001b[39m\u001b[38;5;241m.\u001b[39mconfig,\n\u001b[0;32m    206\u001b[0m     duration\u001b[38;5;241m=\u001b[39mduration,\n\u001b[1;32m   (...)\u001b[0m\n\u001b[0;32m    209\u001b[0m     headers\u001b[38;5;241m=\u001b[39mresponse_headers,\n\u001b[0;32m    210\u001b[0m )\n\u001b[0;32m    211\u001b[0m \u001b[38;5;28mself\u001b[39m\u001b[38;5;241m.\u001b[39m_log_request(\n\u001b[0;32m    212\u001b[0m     method\u001b[38;5;241m=\u001b[39mmethod,\n\u001b[0;32m    213\u001b[0m     target\u001b[38;5;241m=\u001b[39mtarget,\n\u001b[1;32m   (...)\u001b[0m\n\u001b[0;32m    217\u001b[0m     response\u001b[38;5;241m=\u001b[39mdata,\n\u001b[0;32m    218\u001b[0m )\n",
      "\u001b[1;31mConnectionError\u001b[0m: Connection error caused by: ConnectionError(Connection error caused by: NewConnectionError(<elastic_transport._node._urllib3_chain_certs.HTTPSConnection object at 0x000001E8BA7448E0>: Failed to establish a new connection: [WinError 10061] No connection could be made because the target machine actively refused it))"
     ]
    }
   ],
   "source": [
    "# Extracting data from elasticsearch\n",
    "es =  Elasticsearch(hosts=['https://ops-analytics.appl.kp.org:9200'],verify_certs=False,timeout=600, http_auth=(\"G073080\",\"Rakesh@nktyagi423\") )\n",
    "data = helpers.scan(\n",
    "    es,\n",
    "    index=\"storage-ipc-storage-v1\",\n",
    "    preserve_order=True,\n",
    "    query={\n",
    "        \"query\": {\n",
    "            \"range\": {\n",
    "                \"DateTime\": {\n",
    "                    \"gte\": \"now-30d/d\",  # // Start date is 30 days ago\n",
    "                    \"lte\": \"now/d\"      #  // End date is today\n",
    "                    }\n",
    "                }\n",
    "            }\n",
    "        },\n",
    "    )\n",
    "\n",
    "# data1 = helpers.scan(\n",
    "#     es,\n",
    "#     index=\"storage-idw-san-perf*\",\n",
    "#     preserve_order=True,\n",
    "#     query={\n",
    "#   \"query\": {\n",
    "#     \"bool\": {\n",
    "#      \"filter\": [\n",
    "#                        {\n",
    "#                           \"terms\": {\n",
    "#                             \"RecordType.keyword\" : [\"ControllerReadRequests_IOPS\"]\n",
    "#                           }\n",
    "#                         }\n",
    "#                         ]\n",
    "#     }\n",
    "#   },\n",
    "#   }  )\n",
    "from pandas import json_normalize\n",
    "data = list(data)\n",
    "Incidents=json_normalize(data)\n",
    "\n",
    "## Removing _source\n",
    "Incidents.columns = [x.strip().replace('_source.', '') for x in Incidents.columns]\n",
    "## Dropping elastic document related columns. These columns are added by elastic and not part of the actual data\n",
    "Incidents.drop(['_id','_index','_score','_type','@timestamp','@version'], axis=1, inplace=True)\n"
   ]
  },
  {
   "cell_type": "code",
   "execution_count": 17,
   "id": "9f63a678",
   "metadata": {},
   "outputs": [
    {
     "data": {
      "text/plain": [
       "<generator object scan at 0x000001E8BA503C30>"
      ]
     },
     "execution_count": 17,
     "metadata": {},
     "output_type": "execute_result"
    }
   ],
   "source": [
    "data"
   ]
  },
  {
   "cell_type": "code",
   "execution_count": 7,
   "id": "5a7275b8-659d-47df-983d-3e94cbe56ef9",
   "metadata": {},
   "outputs": [],
   "source": [
    "nlp = spacy.load(\"en_core_web_sm\")\n",
    "def preprocess(text):\n",
    "    doc = nlp(text)\n",
    "    filtered_token = []\n",
    "    for token in doc.sents:\n",
    "        filtered_token.append(token)\n",
    "    return filtered_token"
   ]
  },
  {
   "cell_type": "code",
   "execution_count": 8,
   "id": "2cc9d40c-09da-46e3-89dd-c74eba22f2de",
   "metadata": {},
   "outputs": [
    {
     "data": {
      "text/plain": [
       "[This restaurant is awesome]"
      ]
     },
     "execution_count": 8,
     "metadata": {},
     "output_type": "execute_result"
    }
   ],
   "source": [
    "preprocess(\"This restaurant is awesome\")"
   ]
  },
  {
   "cell_type": "code",
   "execution_count": 10,
   "id": "d6e0ff48-b963-4bf9-9606-b13b060b19d2",
   "metadata": {},
   "outputs": [
    {
     "ename": "ValueError",
     "evalue": "[E1041] Expected a string, Doc, or bytes as input, but got: <class 'int'>",
     "output_type": "error",
     "traceback": [
      "\u001b[1;31m---------------------------------------------------------------------------\u001b[0m",
      "\u001b[1;31mValueError\u001b[0m                                Traceback (most recent call last)",
      "\u001b[1;32mC:\\Users\\NITINK~1\\AppData\\Local\\Temp/ipykernel_48812/1847450965.py\u001b[0m in \u001b[0;36m<module>\u001b[1;34m\u001b[0m\n\u001b[1;32m----> 1\u001b[1;33m \u001b[0mpipe\u001b[0m\u001b[1;33m(\u001b[0m\u001b[0mdf\u001b[0m\u001b[1;33m[\u001b[0m\u001b[1;34m'Summary'\u001b[0m\u001b[1;33m]\u001b[0m\u001b[1;33m.\u001b[0m\u001b[0mapply\u001b[0m\u001b[1;33m(\u001b[0m\u001b[0mpreprocess\u001b[0m\u001b[1;33m)\u001b[0m\u001b[1;33m)\u001b[0m\u001b[1;33m\u001b[0m\u001b[1;33m\u001b[0m\u001b[0m\n\u001b[0m",
      "\u001b[1;32m~\\anaconda3\\lib\\site-packages\\pandas\\core\\series.py\u001b[0m in \u001b[0;36mapply\u001b[1;34m(self, func, convert_dtype, args, **kwargs)\u001b[0m\n\u001b[0;32m   4355\u001b[0m         \u001b[0mdtype\u001b[0m\u001b[1;33m:\u001b[0m \u001b[0mfloat64\u001b[0m\u001b[1;33m\u001b[0m\u001b[1;33m\u001b[0m\u001b[0m\n\u001b[0;32m   4356\u001b[0m         \"\"\"\n\u001b[1;32m-> 4357\u001b[1;33m         \u001b[1;32mreturn\u001b[0m \u001b[0mSeriesApply\u001b[0m\u001b[1;33m(\u001b[0m\u001b[0mself\u001b[0m\u001b[1;33m,\u001b[0m \u001b[0mfunc\u001b[0m\u001b[1;33m,\u001b[0m \u001b[0mconvert_dtype\u001b[0m\u001b[1;33m,\u001b[0m \u001b[0margs\u001b[0m\u001b[1;33m,\u001b[0m \u001b[0mkwargs\u001b[0m\u001b[1;33m)\u001b[0m\u001b[1;33m.\u001b[0m\u001b[0mapply\u001b[0m\u001b[1;33m(\u001b[0m\u001b[1;33m)\u001b[0m\u001b[1;33m\u001b[0m\u001b[1;33m\u001b[0m\u001b[0m\n\u001b[0m\u001b[0;32m   4358\u001b[0m \u001b[1;33m\u001b[0m\u001b[0m\n\u001b[0;32m   4359\u001b[0m     def _reduce(\n",
      "\u001b[1;32m~\\anaconda3\\lib\\site-packages\\pandas\\core\\apply.py\u001b[0m in \u001b[0;36mapply\u001b[1;34m(self)\u001b[0m\n\u001b[0;32m   1041\u001b[0m             \u001b[1;32mreturn\u001b[0m \u001b[0mself\u001b[0m\u001b[1;33m.\u001b[0m\u001b[0mapply_str\u001b[0m\u001b[1;33m(\u001b[0m\u001b[1;33m)\u001b[0m\u001b[1;33m\u001b[0m\u001b[1;33m\u001b[0m\u001b[0m\n\u001b[0;32m   1042\u001b[0m \u001b[1;33m\u001b[0m\u001b[0m\n\u001b[1;32m-> 1043\u001b[1;33m         \u001b[1;32mreturn\u001b[0m \u001b[0mself\u001b[0m\u001b[1;33m.\u001b[0m\u001b[0mapply_standard\u001b[0m\u001b[1;33m(\u001b[0m\u001b[1;33m)\u001b[0m\u001b[1;33m\u001b[0m\u001b[1;33m\u001b[0m\u001b[0m\n\u001b[0m\u001b[0;32m   1044\u001b[0m \u001b[1;33m\u001b[0m\u001b[0m\n\u001b[0;32m   1045\u001b[0m     \u001b[1;32mdef\u001b[0m \u001b[0magg\u001b[0m\u001b[1;33m(\u001b[0m\u001b[0mself\u001b[0m\u001b[1;33m)\u001b[0m\u001b[1;33m:\u001b[0m\u001b[1;33m\u001b[0m\u001b[1;33m\u001b[0m\u001b[0m\n",
      "\u001b[1;32m~\\anaconda3\\lib\\site-packages\\pandas\\core\\apply.py\u001b[0m in \u001b[0;36mapply_standard\u001b[1;34m(self)\u001b[0m\n\u001b[0;32m   1096\u001b[0m                 \u001b[1;31m# List[Union[Callable[..., Any], str]]]]]\"; expected\u001b[0m\u001b[1;33m\u001b[0m\u001b[1;33m\u001b[0m\u001b[0m\n\u001b[0;32m   1097\u001b[0m                 \u001b[1;31m# \"Callable[[Any], Any]\"\u001b[0m\u001b[1;33m\u001b[0m\u001b[1;33m\u001b[0m\u001b[0m\n\u001b[1;32m-> 1098\u001b[1;33m                 mapped = lib.map_infer(\n\u001b[0m\u001b[0;32m   1099\u001b[0m                     \u001b[0mvalues\u001b[0m\u001b[1;33m,\u001b[0m\u001b[1;33m\u001b[0m\u001b[1;33m\u001b[0m\u001b[0m\n\u001b[0;32m   1100\u001b[0m                     \u001b[0mf\u001b[0m\u001b[1;33m,\u001b[0m  \u001b[1;31m# type: ignore[arg-type]\u001b[0m\u001b[1;33m\u001b[0m\u001b[1;33m\u001b[0m\u001b[0m\n",
      "\u001b[1;32m~\\anaconda3\\lib\\site-packages\\pandas\\_libs\\lib.pyx\u001b[0m in \u001b[0;36mpandas._libs.lib.map_infer\u001b[1;34m()\u001b[0m\n",
      "\u001b[1;32mC:\\Users\\NITINK~1\\AppData\\Local\\Temp/ipykernel_48812/966342820.py\u001b[0m in \u001b[0;36mpreprocess\u001b[1;34m(text)\u001b[0m\n\u001b[0;32m      1\u001b[0m \u001b[0mnlp\u001b[0m \u001b[1;33m=\u001b[0m \u001b[0mspacy\u001b[0m\u001b[1;33m.\u001b[0m\u001b[0mload\u001b[0m\u001b[1;33m(\u001b[0m\u001b[1;34m\"en_core_web_sm\"\u001b[0m\u001b[1;33m)\u001b[0m\u001b[1;33m\u001b[0m\u001b[1;33m\u001b[0m\u001b[0m\n\u001b[0;32m      2\u001b[0m \u001b[1;32mdef\u001b[0m \u001b[0mpreprocess\u001b[0m\u001b[1;33m(\u001b[0m\u001b[0mtext\u001b[0m\u001b[1;33m)\u001b[0m\u001b[1;33m:\u001b[0m\u001b[1;33m\u001b[0m\u001b[1;33m\u001b[0m\u001b[0m\n\u001b[1;32m----> 3\u001b[1;33m     \u001b[0mdoc\u001b[0m \u001b[1;33m=\u001b[0m \u001b[0mnlp\u001b[0m\u001b[1;33m(\u001b[0m\u001b[0mtext\u001b[0m\u001b[1;33m)\u001b[0m\u001b[1;33m\u001b[0m\u001b[1;33m\u001b[0m\u001b[0m\n\u001b[0m\u001b[0;32m      4\u001b[0m     \u001b[0mfiltered_token\u001b[0m \u001b[1;33m=\u001b[0m \u001b[1;33m[\u001b[0m\u001b[1;33m]\u001b[0m\u001b[1;33m\u001b[0m\u001b[1;33m\u001b[0m\u001b[0m\n\u001b[0;32m      5\u001b[0m     \u001b[1;32mfor\u001b[0m \u001b[0mtoken\u001b[0m \u001b[1;32min\u001b[0m \u001b[0mdoc\u001b[0m\u001b[1;33m.\u001b[0m\u001b[0msents\u001b[0m\u001b[1;33m:\u001b[0m\u001b[1;33m\u001b[0m\u001b[1;33m\u001b[0m\u001b[0m\n",
      "\u001b[1;32m~\\anaconda3\\lib\\site-packages\\spacy\\language.py\u001b[0m in \u001b[0;36m__call__\u001b[1;34m(self, text, disable, component_cfg)\u001b[0m\n\u001b[0;32m   1028\u001b[0m         \u001b[0mDOCS\u001b[0m\u001b[1;33m:\u001b[0m \u001b[0mhttps\u001b[0m\u001b[1;33m:\u001b[0m\u001b[1;33m//\u001b[0m\u001b[0mspacy\u001b[0m\u001b[1;33m.\u001b[0m\u001b[0mio\u001b[0m\u001b[1;33m/\u001b[0m\u001b[0mapi\u001b[0m\u001b[1;33m/\u001b[0m\u001b[0mlanguage\u001b[0m\u001b[1;31m#call\u001b[0m\u001b[1;33m\u001b[0m\u001b[1;33m\u001b[0m\u001b[0m\n\u001b[0;32m   1029\u001b[0m         \"\"\"\n\u001b[1;32m-> 1030\u001b[1;33m         \u001b[0mdoc\u001b[0m \u001b[1;33m=\u001b[0m \u001b[0mself\u001b[0m\u001b[1;33m.\u001b[0m\u001b[0m_ensure_doc\u001b[0m\u001b[1;33m(\u001b[0m\u001b[0mtext\u001b[0m\u001b[1;33m)\u001b[0m\u001b[1;33m\u001b[0m\u001b[1;33m\u001b[0m\u001b[0m\n\u001b[0m\u001b[0;32m   1031\u001b[0m         \u001b[1;32mif\u001b[0m \u001b[0mcomponent_cfg\u001b[0m \u001b[1;32mis\u001b[0m \u001b[1;32mNone\u001b[0m\u001b[1;33m:\u001b[0m\u001b[1;33m\u001b[0m\u001b[1;33m\u001b[0m\u001b[0m\n\u001b[0;32m   1032\u001b[0m             \u001b[0mcomponent_cfg\u001b[0m \u001b[1;33m=\u001b[0m \u001b[1;33m{\u001b[0m\u001b[1;33m}\u001b[0m\u001b[1;33m\u001b[0m\u001b[1;33m\u001b[0m\u001b[0m\n",
      "\u001b[1;32m~\\anaconda3\\lib\\site-packages\\spacy\\language.py\u001b[0m in \u001b[0;36m_ensure_doc\u001b[1;34m(self, doc_like)\u001b[0m\n\u001b[0;32m   1122\u001b[0m         \u001b[1;32mif\u001b[0m \u001b[0misinstance\u001b[0m\u001b[1;33m(\u001b[0m\u001b[0mdoc_like\u001b[0m\u001b[1;33m,\u001b[0m \u001b[0mbytes\u001b[0m\u001b[1;33m)\u001b[0m\u001b[1;33m:\u001b[0m\u001b[1;33m\u001b[0m\u001b[1;33m\u001b[0m\u001b[0m\n\u001b[0;32m   1123\u001b[0m             \u001b[1;32mreturn\u001b[0m \u001b[0mDoc\u001b[0m\u001b[1;33m(\u001b[0m\u001b[0mself\u001b[0m\u001b[1;33m.\u001b[0m\u001b[0mvocab\u001b[0m\u001b[1;33m)\u001b[0m\u001b[1;33m.\u001b[0m\u001b[0mfrom_bytes\u001b[0m\u001b[1;33m(\u001b[0m\u001b[0mdoc_like\u001b[0m\u001b[1;33m)\u001b[0m\u001b[1;33m\u001b[0m\u001b[1;33m\u001b[0m\u001b[0m\n\u001b[1;32m-> 1124\u001b[1;33m         \u001b[1;32mraise\u001b[0m \u001b[0mValueError\u001b[0m\u001b[1;33m(\u001b[0m\u001b[0mErrors\u001b[0m\u001b[1;33m.\u001b[0m\u001b[0mE1041\u001b[0m\u001b[1;33m.\u001b[0m\u001b[0mformat\u001b[0m\u001b[1;33m(\u001b[0m\u001b[0mtype\u001b[0m\u001b[1;33m=\u001b[0m\u001b[0mtype\u001b[0m\u001b[1;33m(\u001b[0m\u001b[0mdoc_like\u001b[0m\u001b[1;33m)\u001b[0m\u001b[1;33m)\u001b[0m\u001b[1;33m)\u001b[0m\u001b[1;33m\u001b[0m\u001b[1;33m\u001b[0m\u001b[0m\n\u001b[0m\u001b[0;32m   1125\u001b[0m \u001b[1;33m\u001b[0m\u001b[0m\n\u001b[0;32m   1126\u001b[0m     def _ensure_doc_with_context(\n",
      "\u001b[1;31mValueError\u001b[0m: [E1041] Expected a string, Doc, or bytes as input, but got: <class 'int'>"
     ]
    }
   ],
   "source": [
    "pipe(df['Summary'].apply(preprocess))"
   ]
  },
  {
   "cell_type": "code",
   "execution_count": 13,
   "id": "470b06ea-16e8-45c8-8463-bbf8ae5897d6",
   "metadata": {},
   "outputs": [
    {
     "ename": "ModuleNotFoundError",
     "evalue": "No module named 'torch'",
     "output_type": "error",
     "traceback": [
      "\u001b[1;31m---------------------------------------------------------------------------\u001b[0m",
      "\u001b[1;31mModuleNotFoundError\u001b[0m                       Traceback (most recent call last)",
      "\u001b[1;32mC:\\Users\\NITINK~1\\AppData\\Local\\Temp/ipykernel_48812/1894194869.py\u001b[0m in \u001b[0;36m<module>\u001b[1;34m\u001b[0m\n\u001b[1;32m----> 1\u001b[1;33m \u001b[1;32mfrom\u001b[0m \u001b[0mtransformers\u001b[0m\u001b[1;33m.\u001b[0m\u001b[0mpipelines\u001b[0m\u001b[1;33m.\u001b[0m\u001b[0mpt_utils\u001b[0m \u001b[1;32mimport\u001b[0m \u001b[0mKeyDataset\u001b[0m\u001b[1;33m\u001b[0m\u001b[1;33m\u001b[0m\u001b[0m\n\u001b[0m\u001b[0;32m      2\u001b[0m \u001b[1;32mimport\u001b[0m \u001b[0mdatasets\u001b[0m\u001b[1;33m\u001b[0m\u001b[1;33m\u001b[0m\u001b[0m\n\u001b[0;32m      3\u001b[0m \u001b[1;33m\u001b[0m\u001b[0m\n\u001b[0;32m      4\u001b[0m \u001b[0mdataset\u001b[0m \u001b[1;33m=\u001b[0m \u001b[0mdatasets\u001b[0m\u001b[1;33m.\u001b[0m\u001b[0mload_dataset\u001b[0m\u001b[1;33m(\u001b[0m\u001b[1;34m\"imdb\"\u001b[0m\u001b[1;33m,\u001b[0m \u001b[0mname\u001b[0m\u001b[1;33m=\u001b[0m\u001b[1;34m\"plain_text\"\u001b[0m\u001b[1;33m,\u001b[0m \u001b[0msplit\u001b[0m\u001b[1;33m=\u001b[0m\u001b[1;34m\"unsupervised\"\u001b[0m\u001b[1;33m)\u001b[0m\u001b[1;33m\u001b[0m\u001b[1;33m\u001b[0m\u001b[0m\n\u001b[0;32m      5\u001b[0m \u001b[0mpipe\u001b[0m \u001b[1;33m=\u001b[0m \u001b[0mpipeline\u001b[0m\u001b[1;33m(\u001b[0m\u001b[1;34m\"text-classification\"\u001b[0m\u001b[1;33m,\u001b[0m \u001b[0mdevice\u001b[0m\u001b[1;33m=\u001b[0m\u001b[1;36m0\u001b[0m\u001b[1;33m)\u001b[0m\u001b[1;33m\u001b[0m\u001b[1;33m\u001b[0m\u001b[0m\n",
      "\u001b[1;32m~\\anaconda3\\lib\\site-packages\\transformers\\pipelines\\pt_utils.py\u001b[0m in \u001b[0;36m<module>\u001b[1;34m\u001b[0m\n\u001b[0;32m      1\u001b[0m \u001b[1;32mimport\u001b[0m \u001b[0mnumpy\u001b[0m \u001b[1;32mas\u001b[0m \u001b[0mnp\u001b[0m\u001b[1;33m\u001b[0m\u001b[1;33m\u001b[0m\u001b[0m\n\u001b[1;32m----> 2\u001b[1;33m \u001b[1;32mimport\u001b[0m \u001b[0mtorch\u001b[0m\u001b[1;33m\u001b[0m\u001b[1;33m\u001b[0m\u001b[0m\n\u001b[0m\u001b[0;32m      3\u001b[0m \u001b[1;32mfrom\u001b[0m \u001b[0mtorch\u001b[0m\u001b[1;33m.\u001b[0m\u001b[0mutils\u001b[0m\u001b[1;33m.\u001b[0m\u001b[0mdata\u001b[0m \u001b[1;32mimport\u001b[0m \u001b[0mDataset\u001b[0m\u001b[1;33m,\u001b[0m \u001b[0mIterableDataset\u001b[0m\u001b[1;33m\u001b[0m\u001b[1;33m\u001b[0m\u001b[0m\n\u001b[0;32m      4\u001b[0m \u001b[1;33m\u001b[0m\u001b[0m\n\u001b[0;32m      5\u001b[0m \u001b[1;32mfrom\u001b[0m \u001b[1;33m.\u001b[0m\u001b[1;33m.\u001b[0m\u001b[0mutils\u001b[0m\u001b[1;33m.\u001b[0m\u001b[0mgeneric\u001b[0m \u001b[1;32mimport\u001b[0m \u001b[0mModelOutput\u001b[0m\u001b[1;33m\u001b[0m\u001b[1;33m\u001b[0m\u001b[0m\n",
      "\u001b[1;31mModuleNotFoundError\u001b[0m: No module named 'torch'"
     ]
    }
   ],
   "source": [
    "from transformers.pipelines.pt_utils import KeyDataset\n",
    "import datasets\n",
    "\n",
    "dataset = datasets.load_dataset(\"imdb\", name=\"plain_text\", split=\"unsupervised\")\n",
    "pipe = pipeline(\"text-classification\", device=0)\n",
    "for out in pipe(KeyDataset(dataset, \"text\"), batch_size=8, truncation=\"only_first\"):\n",
    "    print(out)"
   ]
  },
  {
   "cell_type": "code",
   "execution_count": 1,
   "id": "1d8fc029-8012-4124-9f98-7d924e548141",
   "metadata": {},
   "outputs": [
    {
     "data": {
      "application/vnd.jupyter.widget-view+json": {
       "model_id": "db8ea067350942cbab303fa46603a4db",
       "version_major": 2,
       "version_minor": 0
      },
      "text/plain": [
       "Downloading (…)lve/main/config.json:   0%|          | 0.00/570 [00:00<?, ?B/s]"
      ]
     },
     "metadata": {},
     "output_type": "display_data"
    },
    {
     "name": "stderr",
     "output_type": "stream",
     "text": [
      "C:\\Users\\NitinKumar\\anaconda3\\lib\\site-packages\\huggingface_hub\\file_download.py:133: UserWarning: `huggingface_hub` cache-system uses symlinks by default to efficiently store duplicated files but your machine does not support them in C:\\Users\\NitinKumar\\.cache\\huggingface\\hub. Caching files will still work but in a degraded version that might require more space on your disk. This warning can be disabled by setting the `HF_HUB_DISABLE_SYMLINKS_WARNING` environment variable. For more details, see https://huggingface.co/docs/huggingface_hub/how-to-cache#limitations.\n",
      "To support symlinks on Windows, you either need to activate Developer Mode or to run Python as an administrator. In order to see activate developer mode, see this article: https://docs.microsoft.com/en-us/windows/apps/get-started/enable-your-device-for-development\n",
      "  warnings.warn(message)\n"
     ]
    },
    {
     "data": {
      "application/vnd.jupyter.widget-view+json": {
       "model_id": "688c5c9c872a49cd93faef3841d96c2a",
       "version_major": 2,
       "version_minor": 0
      },
      "text/plain": [
       "Downloading model.safetensors:   0%|          | 0.00/436M [00:00<?, ?B/s]"
      ]
     },
     "metadata": {},
     "output_type": "display_data"
    },
    {
     "name": "stderr",
     "output_type": "stream",
     "text": [
      "Some weights of the PyTorch model were not used when initializing the TF 2.0 model TFBertModel: ['cls.seq_relationship.bias', 'cls.predictions.transform.dense.bias', 'cls.predictions.transform.LayerNorm.weight', 'cls.predictions.transform.dense.weight', 'cls.predictions.transform.LayerNorm.bias', 'cls.predictions.bias', 'cls.seq_relationship.weight']\n",
      "- This IS expected if you are initializing TFBertModel from a PyTorch model trained on another task or with another architecture (e.g. initializing a TFBertForSequenceClassification model from a BertForPreTraining model).\n",
      "- This IS NOT expected if you are initializing TFBertModel from a PyTorch model that you expect to be exactly identical (e.g. initializing a TFBertForSequenceClassification model from a BertForSequenceClassification model).\n",
      "All the weights of TFBertModel were initialized from the PyTorch model.\n",
      "If your task is similar to the task the model of the checkpoint was trained on, you can already use TFBertModel for predictions without further training.\n"
     ]
    }
   ],
   "source": [
    "from transformers import TFAutoModel\n",
    "bert_model = TFAutoModel.from_pretrained(\"bert-base-cased\")"
   ]
  },
  {
   "cell_type": "code",
   "execution_count": 2,
   "id": "caeac9ca",
   "metadata": {},
   "outputs": [
    {
     "name": "stdout",
     "output_type": "stream",
     "text": [
      "<class 'transformers.models.bert.modeling_tf_bert.TFBertModel'>\n"
     ]
    }
   ],
   "source": [
    "print(type(bert_model))"
   ]
  },
  {
   "cell_type": "code",
   "execution_count": 1,
   "id": "9680135b",
   "metadata": {},
   "outputs": [],
   "source": [
    "from datasets import load_dataset"
   ]
  },
  {
   "cell_type": "code",
   "execution_count": 3,
   "id": "a22b7280",
   "metadata": {},
   "outputs": [
    {
     "data": {
      "application/vnd.jupyter.widget-view+json": {
       "model_id": "11e3ca6bbbe449b6904c62eb2a133df5",
       "version_major": 2,
       "version_minor": 0
      },
      "text/plain": [
       "Downloading data files:   0%|          | 0/3 [00:00<?, ?it/s]"
      ]
     },
     "metadata": {},
     "output_type": "display_data"
    },
    {
     "data": {
      "application/vnd.jupyter.widget-view+json": {
       "model_id": "ec31cf0872ee4444be84b0e95327056b",
       "version_major": 2,
       "version_minor": 0
      },
      "text/plain": [
       "Downloading data: 0.00B [00:00, ?B/s]"
      ]
     },
     "metadata": {},
     "output_type": "display_data"
    },
    {
     "data": {
      "application/vnd.jupyter.widget-view+json": {
       "model_id": "67b93fcec7374f48883e5e85b96bb45b",
       "version_major": 2,
       "version_minor": 0
      },
      "text/plain": [
       "Downloading data: 0.00B [00:00, ?B/s]"
      ]
     },
     "metadata": {},
     "output_type": "display_data"
    },
    {
     "data": {
      "application/vnd.jupyter.widget-view+json": {
       "model_id": "09038cc150ba4f40a0c5a4e01dedda7d",
       "version_major": 2,
       "version_minor": 0
      },
      "text/plain": [
       "Downloading data: 0.00B [00:00, ?B/s]"
      ]
     },
     "metadata": {},
     "output_type": "display_data"
    },
    {
     "data": {
      "application/vnd.jupyter.widget-view+json": {
       "model_id": "dce90dd8e0d24c6581ecffcd2813f5b2",
       "version_major": 2,
       "version_minor": 0
      },
      "text/plain": [
       "Generating train split:   0%|          | 0/3668 [00:00<?, ? examples/s]"
      ]
     },
     "metadata": {},
     "output_type": "display_data"
    },
    {
     "data": {
      "application/vnd.jupyter.widget-view+json": {
       "model_id": "6e960ad1d8aa41e2912092e77702a3c0",
       "version_major": 2,
       "version_minor": 0
      },
      "text/plain": [
       "Generating validation split:   0%|          | 0/408 [00:00<?, ? examples/s]"
      ]
     },
     "metadata": {},
     "output_type": "display_data"
    },
    {
     "data": {
      "application/vnd.jupyter.widget-view+json": {
       "model_id": "576e52f084334e71b76ed0e226a64f57",
       "version_major": 2,
       "version_minor": 0
      },
      "text/plain": [
       "Generating test split:   0%|          | 0/1725 [00:00<?, ? examples/s]"
      ]
     },
     "metadata": {},
     "output_type": "display_data"
    },
    {
     "data": {
      "text/plain": [
       "{'train': (3668, 4), 'validation': (408, 4), 'test': (1725, 4)}"
      ]
     },
     "execution_count": 3,
     "metadata": {},
     "output_type": "execute_result"
    }
   ],
   "source": [
    "data = load_dataset('glue','mrpc')\n",
    "data.shape"
   ]
  },
  {
   "cell_type": "code",
   "execution_count": 12,
   "id": "b98781b2",
   "metadata": {},
   "outputs": [
    {
     "data": {
      "text/plain": [
       "{'train': 3668, 'validation': 408, 'test': 1725}"
      ]
     },
     "execution_count": 12,
     "metadata": {},
     "output_type": "execute_result"
    }
   ],
   "source": [
    "data.num_rows"
   ]
  },
  {
   "cell_type": "code",
   "execution_count": null,
   "id": "1fcd000f",
   "metadata": {},
   "outputs": [],
   "source": []
  }
 ],
 "metadata": {
  "kernelspec": {
   "display_name": "Python 3 (ipykernel)",
   "language": "python",
   "name": "python3"
  },
  "language_info": {
   "codemirror_mode": {
    "name": "ipython",
    "version": 3
   },
   "file_extension": ".py",
   "mimetype": "text/x-python",
   "name": "python",
   "nbconvert_exporter": "python",
   "pygments_lexer": "ipython3",
   "version": "3.10.14"
  }
 },
 "nbformat": 4,
 "nbformat_minor": 5
}
